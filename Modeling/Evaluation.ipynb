{
 "cells": [
  {
   "cell_type": "code",
   "execution_count": 1,
   "metadata": {
    "executionInfo": {
     "elapsed": 5,
     "status": "ok",
     "timestamp": 1643014653413,
     "user": {
      "displayName": "Jerry Vasquez",
      "photoUrl": "https://lh3.googleusercontent.com/a-/AOh14Gjbs6_R-H6LOkTu9UD1_yJk6oOg2n4wvCza7hMg=s64",
      "userId": "13038603259595704158"
     },
     "user_tz": 300
    },
    "id": "nCG2jvjgTOuB"
   },
   "outputs": [],
   "source": [
    "import pandas as pd\n",
    "import matplotlib.pyplot as plt\n",
    "plt.style.use(\"fivethirtyeight\")"
   ]
  },
  {
   "cell_type": "code",
   "execution_count": 2,
   "metadata": {
    "colab": {
     "base_uri": "https://localhost:8080/"
    },
    "executionInfo": {
     "elapsed": 16455,
     "status": "ok",
     "timestamp": 1643014716804,
     "user": {
      "displayName": "Jerry Vasquez",
      "photoUrl": "https://lh3.googleusercontent.com/a-/AOh14Gjbs6_R-H6LOkTu9UD1_yJk6oOg2n4wvCza7hMg=s64",
      "userId": "13038603259595704158"
     },
     "user_tz": 300
    },
    "id": "7QDhNWl0TfL9",
    "outputId": "e395da37-a1c0-478f-bfa4-d282e784f034"
   },
   "outputs": [
    {
     "name": "stdout",
     "output_type": "stream",
     "text": [
      "Mounted at /drive\n"
     ]
    }
   ],
   "source": [
    "from google.colab import drive\n",
    "drive.mount('/drive')"
   ]
  },
  {
   "cell_type": "code",
   "execution_count": 3,
   "metadata": {
    "executionInfo": {
     "elapsed": 846,
     "status": "ok",
     "timestamp": 1643014762253,
     "user": {
      "displayName": "Jerry Vasquez",
      "photoUrl": "https://lh3.googleusercontent.com/a-/AOh14Gjbs6_R-H6LOkTu9UD1_yJk6oOg2n4wvCza7hMg=s64",
      "userId": "13038603259595704158"
     },
     "user_tz": 300
    },
    "id": "oVS5UlhBTrwc"
   },
   "outputs": [],
   "source": [
    "rmses_df = pd.read_csv('/drive/My Drive/Stock_Forecasting/Modeling/model_rmses.csv')\n",
    "rois_df = pd.read_csv('/drive/My Drive/Stock_Forecasting/Modeling/rois.csv')"
   ]
  },
  {
   "cell_type": "code",
   "execution_count": 5,
   "metadata": {
    "executionInfo": {
     "elapsed": 227,
     "status": "ok",
     "timestamp": 1643014842186,
     "user": {
      "displayName": "Jerry Vasquez",
      "photoUrl": "https://lh3.googleusercontent.com/a-/AOh14Gjbs6_R-H6LOkTu9UD1_yJk6oOg2n4wvCza7hMg=s64",
      "userId": "13038603259595704158"
     },
     "user_tz": 300
    },
    "id": "Kn7nwOcCT6jx"
   },
   "outputs": [],
   "source": [
    "rmses_df = rmses_df.drop('Unnamed: 0', axis=1)\n",
    "rois_df = rois_df.drop('Unnamed: 0', axis=1)"
   ]
  },
  {
   "cell_type": "code",
   "execution_count": 6,
   "metadata": {
    "colab": {
     "base_uri": "https://localhost:8080/",
     "height": 239
    },
    "executionInfo": {
     "elapsed": 273,
     "status": "ok",
     "timestamp": 1643014850963,
     "user": {
      "displayName": "Jerry Vasquez",
      "photoUrl": "https://lh3.googleusercontent.com/a-/AOh14Gjbs6_R-H6LOkTu9UD1_yJk6oOg2n4wvCza7hMg=s64",
      "userId": "13038603259595704158"
     },
     "user_tz": 300
    },
    "id": "yjHIvBnaT8G6",
    "outputId": "47c706f7-6096-44f5-ced6-5656fb78ffad"
   },
   "outputs": [
    {
     "data": {
      "text/html": [
       "\n",
       "  <div id=\"df-c9a71e8b-83cb-4412-b4cd-ea7de7be127f\">\n",
       "    <div class=\"colab-df-container\">\n",
       "      <div>\n",
       "<style scoped>\n",
       "    .dataframe tbody tr th:only-of-type {\n",
       "        vertical-align: middle;\n",
       "    }\n",
       "\n",
       "    .dataframe tbody tr th {\n",
       "        vertical-align: top;\n",
       "    }\n",
       "\n",
       "    .dataframe thead th {\n",
       "        text-align: right;\n",
       "    }\n",
       "</style>\n",
       "<table border=\"1\" class=\"dataframe\">\n",
       "  <thead>\n",
       "    <tr style=\"text-align: right;\">\n",
       "      <th></th>\n",
       "      <th>Model</th>\n",
       "      <th>NASDX_RMSEs</th>\n",
       "      <th>IVV_RMSEs</th>\n",
       "      <th>VFIAX_RMSEs</th>\n",
       "      <th>VTSAX_RMSEs</th>\n",
       "      <th>QQQ_RMSEs</th>\n",
       "      <th>SWPPX_RMSEs</th>\n",
       "      <th>SWTSX_RMSEs</th>\n",
       "      <th>FXAIX_RMSEs</th>\n",
       "      <th>DIA_RMSEs</th>\n",
       "      <th>VUG_RMSEs</th>\n",
       "      <th>SPY_RMSEs</th>\n",
       "      <th>VOO_RMSEs</th>\n",
       "      <th>VTWO_RMSEs</th>\n",
       "    </tr>\n",
       "  </thead>\n",
       "  <tbody>\n",
       "    <tr>\n",
       "      <th>0</th>\n",
       "      <td>Baseline</td>\n",
       "      <td>1.588590</td>\n",
       "      <td>21.442564</td>\n",
       "      <td>19.797750</td>\n",
       "      <td>5.585475</td>\n",
       "      <td>17.215619</td>\n",
       "      <td>3.267562</td>\n",
       "      <td>3.917987</td>\n",
       "      <td>7.390902</td>\n",
       "      <td>19.163181</td>\n",
       "      <td>14.170785</td>\n",
       "      <td>21.318424</td>\n",
       "      <td>19.661195</td>\n",
       "      <td>12.377123</td>\n",
       "    </tr>\n",
       "    <tr>\n",
       "      <th>1</th>\n",
       "      <td>ARIMA</td>\n",
       "      <td>2.292706</td>\n",
       "      <td>36.026600</td>\n",
       "      <td>33.119191</td>\n",
       "      <td>7.658805</td>\n",
       "      <td>22.830807</td>\n",
       "      <td>5.890846</td>\n",
       "      <td>5.779298</td>\n",
       "      <td>12.634809</td>\n",
       "      <td>20.143136</td>\n",
       "      <td>21.115098</td>\n",
       "      <td>35.735622</td>\n",
       "      <td>32.937877</td>\n",
       "      <td>73.850636</td>\n",
       "    </tr>\n",
       "    <tr>\n",
       "      <th>2</th>\n",
       "      <td>LSTM</td>\n",
       "      <td>0.569077</td>\n",
       "      <td>4.710478</td>\n",
       "      <td>5.027104</td>\n",
       "      <td>1.391428</td>\n",
       "      <td>5.794817</td>\n",
       "      <td>1.023475</td>\n",
       "      <td>1.108364</td>\n",
       "      <td>2.023572</td>\n",
       "      <td>6.561175</td>\n",
       "      <td>4.534771</td>\n",
       "      <td>4.747338</td>\n",
       "      <td>4.440468</td>\n",
       "      <td>5.111931</td>\n",
       "    </tr>\n",
       "    <tr>\n",
       "      <th>3</th>\n",
       "      <td>FBprophet</td>\n",
       "      <td>5.670109</td>\n",
       "      <td>32.488233</td>\n",
       "      <td>31.884724</td>\n",
       "      <td>10.883668</td>\n",
       "      <td>63.844688</td>\n",
       "      <td>5.617840</td>\n",
       "      <td>7.457487</td>\n",
       "      <td>11.723050</td>\n",
       "      <td>24.605617</td>\n",
       "      <td>41.450437</td>\n",
       "      <td>35.484111</td>\n",
       "      <td>31.302444</td>\n",
       "      <td>102.428854</td>\n",
       "    </tr>\n",
       "  </tbody>\n",
       "</table>\n",
       "</div>\n",
       "      <button class=\"colab-df-convert\" onclick=\"convertToInteractive('df-c9a71e8b-83cb-4412-b4cd-ea7de7be127f')\"\n",
       "              title=\"Convert this dataframe to an interactive table.\"\n",
       "              style=\"display:none;\">\n",
       "        \n",
       "  <svg xmlns=\"http://www.w3.org/2000/svg\" height=\"24px\"viewBox=\"0 0 24 24\"\n",
       "       width=\"24px\">\n",
       "    <path d=\"M0 0h24v24H0V0z\" fill=\"none\"/>\n",
       "    <path d=\"M18.56 5.44l.94 2.06.94-2.06 2.06-.94-2.06-.94-.94-2.06-.94 2.06-2.06.94zm-11 1L8.5 8.5l.94-2.06 2.06-.94-2.06-.94L8.5 2.5l-.94 2.06-2.06.94zm10 10l.94 2.06.94-2.06 2.06-.94-2.06-.94-.94-2.06-.94 2.06-2.06.94z\"/><path d=\"M17.41 7.96l-1.37-1.37c-.4-.4-.92-.59-1.43-.59-.52 0-1.04.2-1.43.59L10.3 9.45l-7.72 7.72c-.78.78-.78 2.05 0 2.83L4 21.41c.39.39.9.59 1.41.59.51 0 1.02-.2 1.41-.59l7.78-7.78 2.81-2.81c.8-.78.8-2.07 0-2.86zM5.41 20L4 18.59l7.72-7.72 1.47 1.35L5.41 20z\"/>\n",
       "  </svg>\n",
       "      </button>\n",
       "      \n",
       "  <style>\n",
       "    .colab-df-container {\n",
       "      display:flex;\n",
       "      flex-wrap:wrap;\n",
       "      gap: 12px;\n",
       "    }\n",
       "\n",
       "    .colab-df-convert {\n",
       "      background-color: #E8F0FE;\n",
       "      border: none;\n",
       "      border-radius: 50%;\n",
       "      cursor: pointer;\n",
       "      display: none;\n",
       "      fill: #1967D2;\n",
       "      height: 32px;\n",
       "      padding: 0 0 0 0;\n",
       "      width: 32px;\n",
       "    }\n",
       "\n",
       "    .colab-df-convert:hover {\n",
       "      background-color: #E2EBFA;\n",
       "      box-shadow: 0px 1px 2px rgba(60, 64, 67, 0.3), 0px 1px 3px 1px rgba(60, 64, 67, 0.15);\n",
       "      fill: #174EA6;\n",
       "    }\n",
       "\n",
       "    [theme=dark] .colab-df-convert {\n",
       "      background-color: #3B4455;\n",
       "      fill: #D2E3FC;\n",
       "    }\n",
       "\n",
       "    [theme=dark] .colab-df-convert:hover {\n",
       "      background-color: #434B5C;\n",
       "      box-shadow: 0px 1px 3px 1px rgba(0, 0, 0, 0.15);\n",
       "      filter: drop-shadow(0px 1px 2px rgba(0, 0, 0, 0.3));\n",
       "      fill: #FFFFFF;\n",
       "    }\n",
       "  </style>\n",
       "\n",
       "      <script>\n",
       "        const buttonEl =\n",
       "          document.querySelector('#df-c9a71e8b-83cb-4412-b4cd-ea7de7be127f button.colab-df-convert');\n",
       "        buttonEl.style.display =\n",
       "          google.colab.kernel.accessAllowed ? 'block' : 'none';\n",
       "\n",
       "        async function convertToInteractive(key) {\n",
       "          const element = document.querySelector('#df-c9a71e8b-83cb-4412-b4cd-ea7de7be127f');\n",
       "          const dataTable =\n",
       "            await google.colab.kernel.invokeFunction('convertToInteractive',\n",
       "                                                     [key], {});\n",
       "          if (!dataTable) return;\n",
       "\n",
       "          const docLinkHtml = 'Like what you see? Visit the ' +\n",
       "            '<a target=\"_blank\" href=https://colab.research.google.com/notebooks/data_table.ipynb>data table notebook</a>'\n",
       "            + ' to learn more about interactive tables.';\n",
       "          element.innerHTML = '';\n",
       "          dataTable['output_type'] = 'display_data';\n",
       "          await google.colab.output.renderOutput(dataTable, element);\n",
       "          const docLink = document.createElement('div');\n",
       "          docLink.innerHTML = docLinkHtml;\n",
       "          element.appendChild(docLink);\n",
       "        }\n",
       "      </script>\n",
       "    </div>\n",
       "  </div>\n",
       "  "
      ],
      "text/plain": [
       "       Model  NASDX_RMSEs  IVV_RMSEs  ...  SPY_RMSEs  VOO_RMSEs  VTWO_RMSEs\n",
       "0   Baseline     1.588590  21.442564  ...  21.318424  19.661195   12.377123\n",
       "1      ARIMA     2.292706  36.026600  ...  35.735622  32.937877   73.850636\n",
       "2       LSTM     0.569077   4.710478  ...   4.747338   4.440468    5.111931\n",
       "3  FBprophet     5.670109  32.488233  ...  35.484111  31.302444  102.428854\n",
       "\n",
       "[4 rows x 14 columns]"
      ]
     },
     "execution_count": 6,
     "metadata": {},
     "output_type": "execute_result"
    }
   ],
   "source": [
    "rmses_df"
   ]
  },
  {
   "cell_type": "code",
   "execution_count": 7,
   "metadata": {
    "colab": {
     "base_uri": "https://localhost:8080/",
     "height": 81
    },
    "executionInfo": {
     "elapsed": 259,
     "status": "ok",
     "timestamp": 1643014856330,
     "user": {
      "displayName": "Jerry Vasquez",
      "photoUrl": "https://lh3.googleusercontent.com/a-/AOh14Gjbs6_R-H6LOkTu9UD1_yJk6oOg2n4wvCza7hMg=s64",
      "userId": "13038603259595704158"
     },
     "user_tz": 300
    },
    "id": "J2tVm0lcUQd1",
    "outputId": "e7f0deec-b3e4-4de4-aa8e-bf5e1e5cf154"
   },
   "outputs": [
    {
     "data": {
      "text/html": [
       "\n",
       "  <div id=\"df-8d1aa16c-b8bd-49cd-84ca-db8d4cf18426\">\n",
       "    <div class=\"colab-df-container\">\n",
       "      <div>\n",
       "<style scoped>\n",
       "    .dataframe tbody tr th:only-of-type {\n",
       "        vertical-align: middle;\n",
       "    }\n",
       "\n",
       "    .dataframe tbody tr th {\n",
       "        vertical-align: top;\n",
       "    }\n",
       "\n",
       "    .dataframe thead th {\n",
       "        text-align: right;\n",
       "    }\n",
       "</style>\n",
       "<table border=\"1\" class=\"dataframe\">\n",
       "  <thead>\n",
       "    <tr style=\"text-align: right;\">\n",
       "      <th></th>\n",
       "      <th>NASDX_ROI</th>\n",
       "      <th>IVV_ROI</th>\n",
       "      <th>VFIAX_ROI</th>\n",
       "      <th>VTSAX_ROI</th>\n",
       "      <th>QQQ_ROI</th>\n",
       "      <th>SWPPX_ROI</th>\n",
       "      <th>SWTSX_ROI</th>\n",
       "      <th>FXAIX_ROI</th>\n",
       "      <th>DIA_ROI</th>\n",
       "      <th>VUG_ROI</th>\n",
       "      <th>SPY_ROI</th>\n",
       "      <th>VOO_ROI</th>\n",
       "      <th>VTWO_ROI</th>\n",
       "    </tr>\n",
       "  </thead>\n",
       "  <tbody>\n",
       "    <tr>\n",
       "      <th>0</th>\n",
       "      <td>-0.178096</td>\n",
       "      <td>-0.217691</td>\n",
       "      <td>-0.289086</td>\n",
       "      <td>-0.253251</td>\n",
       "      <td>-0.228023</td>\n",
       "      <td>-0.326752</td>\n",
       "      <td>-0.252235</td>\n",
       "      <td>-0.274636</td>\n",
       "      <td>-0.416967</td>\n",
       "      <td>-0.243621</td>\n",
       "      <td>-0.213185</td>\n",
       "      <td>-0.23154</td>\n",
       "      <td>0.168996</td>\n",
       "    </tr>\n",
       "  </tbody>\n",
       "</table>\n",
       "</div>\n",
       "      <button class=\"colab-df-convert\" onclick=\"convertToInteractive('df-8d1aa16c-b8bd-49cd-84ca-db8d4cf18426')\"\n",
       "              title=\"Convert this dataframe to an interactive table.\"\n",
       "              style=\"display:none;\">\n",
       "        \n",
       "  <svg xmlns=\"http://www.w3.org/2000/svg\" height=\"24px\"viewBox=\"0 0 24 24\"\n",
       "       width=\"24px\">\n",
       "    <path d=\"M0 0h24v24H0V0z\" fill=\"none\"/>\n",
       "    <path d=\"M18.56 5.44l.94 2.06.94-2.06 2.06-.94-2.06-.94-.94-2.06-.94 2.06-2.06.94zm-11 1L8.5 8.5l.94-2.06 2.06-.94-2.06-.94L8.5 2.5l-.94 2.06-2.06.94zm10 10l.94 2.06.94-2.06 2.06-.94-2.06-.94-.94-2.06-.94 2.06-2.06.94z\"/><path d=\"M17.41 7.96l-1.37-1.37c-.4-.4-.92-.59-1.43-.59-.52 0-1.04.2-1.43.59L10.3 9.45l-7.72 7.72c-.78.78-.78 2.05 0 2.83L4 21.41c.39.39.9.59 1.41.59.51 0 1.02-.2 1.41-.59l7.78-7.78 2.81-2.81c.8-.78.8-2.07 0-2.86zM5.41 20L4 18.59l7.72-7.72 1.47 1.35L5.41 20z\"/>\n",
       "  </svg>\n",
       "      </button>\n",
       "      \n",
       "  <style>\n",
       "    .colab-df-container {\n",
       "      display:flex;\n",
       "      flex-wrap:wrap;\n",
       "      gap: 12px;\n",
       "    }\n",
       "\n",
       "    .colab-df-convert {\n",
       "      background-color: #E8F0FE;\n",
       "      border: none;\n",
       "      border-radius: 50%;\n",
       "      cursor: pointer;\n",
       "      display: none;\n",
       "      fill: #1967D2;\n",
       "      height: 32px;\n",
       "      padding: 0 0 0 0;\n",
       "      width: 32px;\n",
       "    }\n",
       "\n",
       "    .colab-df-convert:hover {\n",
       "      background-color: #E2EBFA;\n",
       "      box-shadow: 0px 1px 2px rgba(60, 64, 67, 0.3), 0px 1px 3px 1px rgba(60, 64, 67, 0.15);\n",
       "      fill: #174EA6;\n",
       "    }\n",
       "\n",
       "    [theme=dark] .colab-df-convert {\n",
       "      background-color: #3B4455;\n",
       "      fill: #D2E3FC;\n",
       "    }\n",
       "\n",
       "    [theme=dark] .colab-df-convert:hover {\n",
       "      background-color: #434B5C;\n",
       "      box-shadow: 0px 1px 3px 1px rgba(0, 0, 0, 0.15);\n",
       "      filter: drop-shadow(0px 1px 2px rgba(0, 0, 0, 0.3));\n",
       "      fill: #FFFFFF;\n",
       "    }\n",
       "  </style>\n",
       "\n",
       "      <script>\n",
       "        const buttonEl =\n",
       "          document.querySelector('#df-8d1aa16c-b8bd-49cd-84ca-db8d4cf18426 button.colab-df-convert');\n",
       "        buttonEl.style.display =\n",
       "          google.colab.kernel.accessAllowed ? 'block' : 'none';\n",
       "\n",
       "        async function convertToInteractive(key) {\n",
       "          const element = document.querySelector('#df-8d1aa16c-b8bd-49cd-84ca-db8d4cf18426');\n",
       "          const dataTable =\n",
       "            await google.colab.kernel.invokeFunction('convertToInteractive',\n",
       "                                                     [key], {});\n",
       "          if (!dataTable) return;\n",
       "\n",
       "          const docLinkHtml = 'Like what you see? Visit the ' +\n",
       "            '<a target=\"_blank\" href=https://colab.research.google.com/notebooks/data_table.ipynb>data table notebook</a>'\n",
       "            + ' to learn more about interactive tables.';\n",
       "          element.innerHTML = '';\n",
       "          dataTable['output_type'] = 'display_data';\n",
       "          await google.colab.output.renderOutput(dataTable, element);\n",
       "          const docLink = document.createElement('div');\n",
       "          docLink.innerHTML = docLinkHtml;\n",
       "          element.appendChild(docLink);\n",
       "        }\n",
       "      </script>\n",
       "    </div>\n",
       "  </div>\n",
       "  "
      ],
      "text/plain": [
       "   NASDX_ROI   IVV_ROI  VFIAX_ROI  ...   SPY_ROI  VOO_ROI  VTWO_ROI\n",
       "0  -0.178096 -0.217691  -0.289086  ... -0.213185 -0.23154  0.168996\n",
       "\n",
       "[1 rows x 13 columns]"
      ]
     },
     "execution_count": 7,
     "metadata": {},
     "output_type": "execute_result"
    }
   ],
   "source": [
    "rois_df"
   ]
  },
  {
   "cell_type": "code",
   "execution_count": 14,
   "metadata": {
    "colab": {
     "base_uri": "https://localhost:8080/",
     "height": 513
    },
    "executionInfo": {
     "elapsed": 539,
     "status": "ok",
     "timestamp": 1643015109631,
     "user": {
      "displayName": "Jerry Vasquez",
      "photoUrl": "https://lh3.googleusercontent.com/a-/AOh14Gjbs6_R-H6LOkTu9UD1_yJk6oOg2n4wvCza7hMg=s64",
      "userId": "13038603259595704158"
     },
     "user_tz": 300
    },
    "id": "yJANcjOVURx7",
    "outputId": "fcbd8cef-6384-422e-fdb7-58a31818fa59"
   },
   "outputs": [
    {
     "data": {
      "image/png": "[encoded data removed]",
      "text/plain": [
       "<Figure size 1152x576 with 1 Axes>"
      ]
     },
     "metadata": {
      "needs_background": "light"
     },
     "output_type": "display_data"
    }
   ],
   "source": [
    "fig, ax = plt.subplots(figsize=(16,8))\n",
    "ax.set_title('RMSEs For LSTM Model')\n",
    "ax.set_ylabel('Ticker')\n",
    "ax.set_xlabel('RMSE in USD ($)')\n",
    "rmses_df.iloc[2,1:].plot.barh(ax=ax);"
   ]
  },
  {
   "cell_type": "code",
   "execution_count": null,
   "metadata": {
    "id": "aTjN0SDBUaTH"
   },
   "outputs": [],
   "source": []
  }
 ],
 "metadata": {
  "colab": {
   "authorship_tag": "ABX9TyOt90t3+pVOfxqm7WWLvwgE",
   "collapsed_sections": [],
   "name": "Evaluation.ipynb",
   "provenance": []
  },
  "kernelspec": {
   "display_name": "Python 3",
   "language": "python",
   "name": "python3"
  },
  "language_info": {
   "codemirror_mode": {
    "name": "ipython",
    "version": 3
   },
   "file_extension": ".py",
   "mimetype": "text/x-python",
   "name": "python",
   "nbconvert_exporter": "python",
   "pygments_lexer": "ipython3",
   "version": "3.8.5"
  }
 },
 "nbformat": 4,
 "nbformat_minor": 1
}
