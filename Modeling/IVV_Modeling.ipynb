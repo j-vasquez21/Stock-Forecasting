{
 "cells": [
  {
   "cell_type": "code",
   "execution_count": 55,
   "metadata": {
    "executionInfo": {
     "elapsed": 224,
     "status": "ok",
     "timestamp": 1642647882691,
     "user": {
      "displayName": "Jerry Vasquez",
      "photoUrl": "https://lh3.googleusercontent.com/a-/AOh14Gjbs6_R-H6LOkTu9UD1_yJk6oOg2n4wvCza7hMg=s64",
      "userId": "13038603259595704158"
     },
     "user_tz": 300
    },
    "id": "PXh0jOYmNv3s"
   },
   "outputs": [],
   "source": [
    "import numpy as np\n",
    "import pandas as pd\n",
    "import matplotlib.pyplot as plt\n",
    "import itertools\n",
    "\n",
    "from sklearn.preprocessing import MinMaxScaler\n",
    "from sklearn.metrics import mean_squared_error\n",
    "\n",
    "import tensorflow as tf\n",
    "tf.keras.utils.set_random_seed(42)\n",
    "from keras.models import Sequential\n",
    "from keras.layers import Dense, LSTM\n",
    "\n",
    "# Change to statsmodels.tsa.arima.model on jupyter notebook\n",
    "from statsmodels.tsa.arima_model import ARIMA\n",
    "from statsmodels.tsa.stattools import acf, pacf, adfuller\n",
    "from statsmodels.graphics.tsaplots import plot_acf, plot_pacf\n",
    "\n",
    "from fbprophet import Prophet\n",
    "\n",
    "import warnings\n",
    "warnings.simplefilter('ignore')\n",
    "\n",
    "plt.style.use(\"fivethirtyeight\")"
   ]
  },
  {
   "cell_type": "code",
   "execution_count": 56,
   "metadata": {
    "colab": {
     "base_uri": "https://localhost:8080/",
     "height": 73,
     "resources": {
      "http://localhost:8080/nbextensions/google.colab/files.js": {
       "data": "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",
       "headers": [
        [
         "content-type",
         "application/javascript"
        ]
       ],
       "ok": true,
       "status": 200,
       "status_text": ""
      }
     }
    },
    "executionInfo": {
     "elapsed": 29054,
     "status": "ok",
     "timestamp": 1642647911958,
     "user": {
      "displayName": "Jerry Vasquez",
      "photoUrl": "https://lh3.googleusercontent.com/a-/AOh14Gjbs6_R-H6LOkTu9UD1_yJk6oOg2n4wvCza7hMg=s64",
      "userId": "13038603259595704158"
     },
     "user_tz": 300
    },
    "id": "AoPGzMcFOVNv",
    "outputId": "2a574906-98cd-4001-e22c-1cb93376e147"
   },
   "outputs": [
    {
     "data": {
      "text/html": [
       "\n",
       "     <input type=\"file\" id=\"files-1ae14d78-cacb-487a-b933-ebad0832f45c\" name=\"files[]\" multiple disabled\n",
       "        style=\"border:none\" />\n",
       "     <output id=\"result-1ae14d78-cacb-487a-b933-ebad0832f45c\">\n",
       "      Upload widget is only available when the cell has been executed in the\n",
       "      current browser session. Please rerun this cell to enable.\n",
       "      </output>\n",
       "      <script src=\"/nbextensions/google.colab/files.js\"></script> "
      ],
      "text/plain": [
       "<IPython.core.display.HTML object>"
      ]
     },
     "metadata": {},
     "output_type": "display_data"
    },
    {
     "name": "stdout",
     "output_type": "stream",
     "text": [
      "Saving index_funds_data.csv to index_funds_data (2).csv\n"
     ]
    }
   ],
   "source": [
    "# For working on google colab. Comment out if working on Jupyter Notebook.\n",
    "# from google.colab import files\n",
    "# uploaded = files.upload()"
   ]
  },
  {
   "cell_type": "code",
   "execution_count": 57,
   "metadata": {
    "executionInfo": {
     "elapsed": 36,
     "status": "ok",
     "timestamp": 1642647911961,
     "user": {
      "displayName": "Jerry Vasquez",
      "photoUrl": "https://lh3.googleusercontent.com/a-/AOh14Gjbs6_R-H6LOkTu9UD1_yJk6oOg2n4wvCza7hMg=s64",
      "userId": "13038603259595704158"
     },
     "user_tz": 300
    },
    "id": "eVzWeZjgOa0T"
   },
   "outputs": [],
   "source": [
    "# remove '..data/' if working on google colab\n",
    "funds = pd.read_csv('../data/index_funds_data.csv')\n",
    "funds['date'] = pd.to_datetime(funds['date'],infer_datetime_format=True)\n",
    "funds = funds[['symbol','date','close']]\n",
    "funds = funds.set_index(['symbol','date'])\n",
    "IVV = funds.loc['IVV',['close']]"
   ]
  },
  {
   "cell_type": "code",
   "execution_count": 58,
   "metadata": {
    "colab": {
     "base_uri": "https://localhost:8080/",
     "height": 455
    },
    "executionInfo": {
     "elapsed": 33,
     "status": "ok",
     "timestamp": 1642647911961,
     "user": {
      "displayName": "Jerry Vasquez",
      "photoUrl": "https://lh3.googleusercontent.com/a-/AOh14Gjbs6_R-H6LOkTu9UD1_yJk6oOg2n4wvCza7hMg=s64",
      "userId": "13038603259595704158"
     },
     "user_tz": 300
    },
    "id": "qjgjyztgOkSA",
    "outputId": "8021ebd5-cb0e-48a1-c78a-1ae61e6bb9ed"
   },
   "outputs": [
    {
     "data": {
      "text/html": [
       "\n",
       "  <div id=\"df-126ab96d-5f92-4b96-a240-7ed569081fc4\">\n",
       "    <div class=\"colab-df-container\">\n",
       "      <div>\n",
       "<style scoped>\n",
       "    .dataframe tbody tr th:only-of-type {\n",
       "        vertical-align: middle;\n",
       "    }\n",
       "\n",
       "    .dataframe tbody tr th {\n",
       "        vertical-align: top;\n",
       "    }\n",
       "\n",
       "    .dataframe thead th {\n",
       "        text-align: right;\n",
       "    }\n",
       "</style>\n",
       "<table border=\"1\" class=\"dataframe\">\n",
       "  <thead>\n",
       "    <tr style=\"text-align: right;\">\n",
       "      <th></th>\n",
       "      <th>close</th>\n",
       "    </tr>\n",
       "    <tr>\n",
       "      <th>date</th>\n",
       "      <th></th>\n",
       "    </tr>\n",
       "  </thead>\n",
       "  <tbody>\n",
       "    <tr>\n",
       "      <th>2017-01-12 00:00:00+00:00</th>\n",
       "      <td>227.97</td>\n",
       "    </tr>\n",
       "    <tr>\n",
       "      <th>2017-01-13 00:00:00+00:00</th>\n",
       "      <td>228.39</td>\n",
       "    </tr>\n",
       "    <tr>\n",
       "      <th>2017-01-14 00:00:00+00:00</th>\n",
       "      <td>227.64</td>\n",
       "    </tr>\n",
       "    <tr>\n",
       "      <th>2017-01-15 00:00:00+00:00</th>\n",
       "      <td>227.64</td>\n",
       "    </tr>\n",
       "    <tr>\n",
       "      <th>2017-01-16 00:00:00+00:00</th>\n",
       "      <td>227.64</td>\n",
       "    </tr>\n",
       "    <tr>\n",
       "      <th>...</th>\n",
       "      <td>...</td>\n",
       "    </tr>\n",
       "    <tr>\n",
       "      <th>2022-01-06 00:00:00+00:00</th>\n",
       "      <td>469.98</td>\n",
       "    </tr>\n",
       "    <tr>\n",
       "      <th>2022-01-07 00:00:00+00:00</th>\n",
       "      <td>468.10</td>\n",
       "    </tr>\n",
       "    <tr>\n",
       "      <th>2022-01-08 00:00:00+00:00</th>\n",
       "      <td>467.22</td>\n",
       "    </tr>\n",
       "    <tr>\n",
       "      <th>2022-01-09 00:00:00+00:00</th>\n",
       "      <td>467.22</td>\n",
       "    </tr>\n",
       "    <tr>\n",
       "      <th>2022-01-10 00:00:00+00:00</th>\n",
       "      <td>467.22</td>\n",
       "    </tr>\n",
       "  </tbody>\n",
       "</table>\n",
       "<p>1825 rows × 1 columns</p>\n",
       "</div>\n",
       "      <button class=\"colab-df-convert\" onclick=\"convertToInteractive('df-126ab96d-5f92-4b96-a240-7ed569081fc4')\"\n",
       "              title=\"Convert this dataframe to an interactive table.\"\n",
       "              style=\"display:none;\">\n",
       "        \n",
       "  <svg xmlns=\"http://www.w3.org/2000/svg\" height=\"24px\"viewBox=\"0 0 24 24\"\n",
       "       width=\"24px\">\n",
       "    <path d=\"M0 0h24v24H0V0z\" fill=\"none\"/>\n",
       "    <path d=\"M18.56 5.44l.94 2.06.94-2.06 2.06-.94-2.06-.94-.94-2.06-.94 2.06-2.06.94zm-11 1L8.5 8.5l.94-2.06 2.06-.94-2.06-.94L8.5 2.5l-.94 2.06-2.06.94zm10 10l.94 2.06.94-2.06 2.06-.94-2.06-.94-.94-2.06-.94 2.06-2.06.94z\"/><path d=\"M17.41 7.96l-1.37-1.37c-.4-.4-.92-.59-1.43-.59-.52 0-1.04.2-1.43.59L10.3 9.45l-7.72 7.72c-.78.78-.78 2.05 0 2.83L4 21.41c.39.39.9.59 1.41.59.51 0 1.02-.2 1.41-.59l7.78-7.78 2.81-2.81c.8-.78.8-2.07 0-2.86zM5.41 20L4 18.59l7.72-7.72 1.47 1.35L5.41 20z\"/>\n",
       "  </svg>\n",
       "      </button>\n",
       "      \n",
       "  <style>\n",
       "    .colab-df-container {\n",
       "      display:flex;\n",
       "      flex-wrap:wrap;\n",
       "      gap: 12px;\n",
       "    }\n",
       "\n",
       "    .colab-df-convert {\n",
       "      background-color: #E8F0FE;\n",
       "      border: none;\n",
       "      border-radius: 50%;\n",
       "      cursor: pointer;\n",
       "      display: none;\n",
       "      fill: #1967D2;\n",
       "      height: 32px;\n",
       "      padding: 0 0 0 0;\n",
       "      width: 32px;\n",
       "    }\n",
       "\n",
       "    .colab-df-convert:hover {\n",
       "      background-color: #E2EBFA;\n",
       "      box-shadow: 0px 1px 2px rgba(60, 64, 67, 0.3), 0px 1px 3px 1px rgba(60, 64, 67, 0.15);\n",
       "      fill: #174EA6;\n",
       "    }\n",
       "\n",
       "    [theme=dark] .colab-df-convert {\n",
       "      background-color: #3B4455;\n",
       "      fill: #D2E3FC;\n",
       "    }\n",
       "\n",
       "    [theme=dark] .colab-df-convert:hover {\n",
       "      background-color: #434B5C;\n",
       "      box-shadow: 0px 1px 3px 1px rgba(0, 0, 0, 0.15);\n",
       "      filter: drop-shadow(0px 1px 2px rgba(0, 0, 0, 0.3));\n",
       "      fill: #FFFFFF;\n",
       "    }\n",
       "  </style>\n",
       "\n",
       "      <script>\n",
       "        const buttonEl =\n",
       "          document.querySelector('#df-126ab96d-5f92-4b96-a240-7ed569081fc4 button.colab-df-convert');\n",
       "        buttonEl.style.display =\n",
       "          google.colab.kernel.accessAllowed ? 'block' : 'none';\n",
       "\n",
       "        async function convertToInteractive(key) {\n",
       "          const element = document.querySelector('#df-126ab96d-5f92-4b96-a240-7ed569081fc4');\n",
       "          const dataTable =\n",
       "            await google.colab.kernel.invokeFunction('convertToInteractive',\n",
       "                                                     [key], {});\n",
       "          if (!dataTable) return;\n",
       "\n",
       "          const docLinkHtml = 'Like what you see? Visit the ' +\n",
       "            '<a target=\"_blank\" href=https://colab.research.google.com/notebooks/data_table.ipynb>data table notebook</a>'\n",
       "            + ' to learn more about interactive tables.';\n",
       "          element.innerHTML = '';\n",
       "          dataTable['output_type'] = 'display_data';\n",
       "          await google.colab.output.renderOutput(dataTable, element);\n",
       "          const docLink = document.createElement('div');\n",
       "          docLink.innerHTML = docLinkHtml;\n",
       "          element.appendChild(docLink);\n",
       "        }\n",
       "      </script>\n",
       "    </div>\n",
       "  </div>\n",
       "  "
      ],
      "text/plain": [
       "                            close\n",
       "date                             \n",
       "2017-01-12 00:00:00+00:00  227.97\n",
       "2017-01-13 00:00:00+00:00  228.39\n",
       "2017-01-14 00:00:00+00:00  227.64\n",
       "2017-01-15 00:00:00+00:00  227.64\n",
       "2017-01-16 00:00:00+00:00  227.64\n",
       "...                           ...\n",
       "2022-01-06 00:00:00+00:00  469.98\n",
       "2022-01-07 00:00:00+00:00  468.10\n",
       "2022-01-08 00:00:00+00:00  467.22\n",
       "2022-01-09 00:00:00+00:00  467.22\n",
       "2022-01-10 00:00:00+00:00  467.22\n",
       "\n",
       "[1825 rows x 1 columns]"
      ]
     },
     "execution_count": 58,
     "metadata": {},
     "output_type": "execute_result"
    }
   ],
   "source": [
    "IVV"
   ]
  },
  {
   "cell_type": "code",
   "execution_count": 59,
   "metadata": {
    "colab": {
     "base_uri": "https://localhost:8080/"
    },
    "executionInfo": {
     "elapsed": 30,
     "status": "ok",
     "timestamp": 1642647911962,
     "user": {
      "displayName": "Jerry Vasquez",
      "photoUrl": "https://lh3.googleusercontent.com/a-/AOh14Gjbs6_R-H6LOkTu9UD1_yJk6oOg2n4wvCza7hMg=s64",
      "userId": "13038603259595704158"
     },
     "user_tz": 300
    },
    "id": "kNBAypuZOlRg",
    "outputId": "ce766768-0705-4f16-ca5d-38e9ff73dfbd"
   },
   "outputs": [
    {
     "data": {
      "text/plain": [
       "(1825, 1)"
      ]
     },
     "execution_count": 59,
     "metadata": {},
     "output_type": "execute_result"
    }
   ],
   "source": [
    "IVV.shape"
   ]
  },
  {
   "cell_type": "code",
   "execution_count": 60,
   "metadata": {
    "colab": {
     "base_uri": "https://localhost:8080/",
     "height": 558
    },
    "executionInfo": {
     "elapsed": 436,
     "status": "ok",
     "timestamp": 1642647912375,
     "user": {
      "displayName": "Jerry Vasquez",
      "photoUrl": "https://lh3.googleusercontent.com/a-/AOh14Gjbs6_R-H6LOkTu9UD1_yJk6oOg2n4wvCza7hMg=s64",
      "userId": "13038603259595704158"
     },
     "user_tz": 300
    },
    "id": "v_JvKiyPOsHk",
    "outputId": "6648ebc3-af8c-407a-bab9-dfe9cf3944e2"
   },
   "outputs": [
    {
     "data": {
      "image/png": "[encoded data removed]",
      "text/plain": [
       "<Figure size 1152x576 with 1 Axes>"
      ]
     },
     "metadata": {},
     "output_type": "display_data"
    }
   ],
   "source": [
    "plt.figure(figsize=(16,8))\n",
    "plt.plot(IVV['close'])\n",
    "plt.title(\"Close Price History\")\n",
    "plt.xlabel(\"Date\",fontsize=18)\n",
    "plt.ylabel(\"Close Price in USD ($)\",fontsize=18)\n",
    "plt.show()"
   ]
  },
  {
   "cell_type": "markdown",
   "metadata": {
    "id": "P5Npx3050v5_"
   },
   "source": [
    "### Baseline"
   ]
  },
  {
   "cell_type": "code",
   "execution_count": 61,
   "metadata": {
    "colab": {
     "base_uri": "https://localhost:8080/"
    },
    "executionInfo": {
     "elapsed": 13,
     "status": "ok",
     "timestamp": 1642647912376,
     "user": {
      "displayName": "Jerry Vasquez",
      "photoUrl": "https://lh3.googleusercontent.com/a-/AOh14Gjbs6_R-H6LOkTu9UD1_yJk6oOg2n4wvCza7hMg=s64",
      "userId": "13038603259595704158"
     },
     "user_tz": 300
    },
    "id": "X5-C7N-X0lPX",
    "outputId": "17026e75-3b89-48aa-bbe6-adcde5d94926"
   },
   "outputs": [
    {
     "data": {
      "text/plain": [
       "15.624003253930473"
      ]
     },
     "execution_count": 61,
     "metadata": {},
     "output_type": "execute_result"
    }
   ],
   "source": [
    "IVV_baseline = IVV.shift(30)\n",
    "IVV_base_rmse = mean_squared_error(IVV[30:],IVV_baseline[30:],squared=False)\n",
    "IVV_base_rmse"
   ]
  },
  {
   "cell_type": "code",
   "execution_count": 62,
   "metadata": {
    "colab": {
     "base_uri": "https://localhost:8080/",
     "height": 455
    },
    "executionInfo": {
     "elapsed": 10,
     "status": "ok",
     "timestamp": 1642647912376,
     "user": {
      "displayName": "Jerry Vasquez",
      "photoUrl": "https://lh3.googleusercontent.com/a-/AOh14Gjbs6_R-H6LOkTu9UD1_yJk6oOg2n4wvCza7hMg=s64",
      "userId": "13038603259595704158"
     },
     "user_tz": 300
    },
    "id": "bh4XCsDP5aFl",
    "outputId": "3b4ecde6-8955-43bd-a3a4-bea11e013278"
   },
   "outputs": [
    {
     "data": {
      "text/html": [
       "\n",
       "  <div id=\"df-b4df69da-d1bf-4594-8b63-f6831a8c55e5\">\n",
       "    <div class=\"colab-df-container\">\n",
       "      <div>\n",
       "<style scoped>\n",
       "    .dataframe tbody tr th:only-of-type {\n",
       "        vertical-align: middle;\n",
       "    }\n",
       "\n",
       "    .dataframe tbody tr th {\n",
       "        vertical-align: top;\n",
       "    }\n",
       "\n",
       "    .dataframe thead th {\n",
       "        text-align: right;\n",
       "    }\n",
       "</style>\n",
       "<table border=\"1\" class=\"dataframe\">\n",
       "  <thead>\n",
       "    <tr style=\"text-align: right;\">\n",
       "      <th></th>\n",
       "      <th>close</th>\n",
       "    </tr>\n",
       "    <tr>\n",
       "      <th>date</th>\n",
       "      <th></th>\n",
       "    </tr>\n",
       "  </thead>\n",
       "  <tbody>\n",
       "    <tr>\n",
       "      <th>2017-01-12 00:00:00+00:00</th>\n",
       "      <td>NaN</td>\n",
       "    </tr>\n",
       "    <tr>\n",
       "      <th>2017-01-13 00:00:00+00:00</th>\n",
       "      <td>NaN</td>\n",
       "    </tr>\n",
       "    <tr>\n",
       "      <th>2017-01-14 00:00:00+00:00</th>\n",
       "      <td>NaN</td>\n",
       "    </tr>\n",
       "    <tr>\n",
       "      <th>2017-01-15 00:00:00+00:00</th>\n",
       "      <td>NaN</td>\n",
       "    </tr>\n",
       "    <tr>\n",
       "      <th>2017-01-16 00:00:00+00:00</th>\n",
       "      <td>NaN</td>\n",
       "    </tr>\n",
       "    <tr>\n",
       "      <th>...</th>\n",
       "      <td>...</td>\n",
       "    </tr>\n",
       "    <tr>\n",
       "      <th>2022-01-06 00:00:00+00:00</th>\n",
       "      <td>470.19</td>\n",
       "    </tr>\n",
       "    <tr>\n",
       "      <th>2022-01-07 00:00:00+00:00</th>\n",
       "      <td>471.43</td>\n",
       "    </tr>\n",
       "    <tr>\n",
       "      <th>2022-01-08 00:00:00+00:00</th>\n",
       "      <td>468.25</td>\n",
       "    </tr>\n",
       "    <tr>\n",
       "      <th>2022-01-09 00:00:00+00:00</th>\n",
       "      <td>472.74</td>\n",
       "    </tr>\n",
       "    <tr>\n",
       "      <th>2022-01-10 00:00:00+00:00</th>\n",
       "      <td>467.07</td>\n",
       "    </tr>\n",
       "  </tbody>\n",
       "</table>\n",
       "<p>1825 rows × 1 columns</p>\n",
       "</div>\n",
       "      <button class=\"colab-df-convert\" onclick=\"convertToInteractive('df-b4df69da-d1bf-4594-8b63-f6831a8c55e5')\"\n",
       "              title=\"Convert this dataframe to an interactive table.\"\n",
       "              style=\"display:none;\">\n",
       "        \n",
       "  <svg xmlns=\"http://www.w3.org/2000/svg\" height=\"24px\"viewBox=\"0 0 24 24\"\n",
       "       width=\"24px\">\n",
       "    <path d=\"M0 0h24v24H0V0z\" fill=\"none\"/>\n",
       "    <path d=\"M18.56 5.44l.94 2.06.94-2.06 2.06-.94-2.06-.94-.94-2.06-.94 2.06-2.06.94zm-11 1L8.5 8.5l.94-2.06 2.06-.94-2.06-.94L8.5 2.5l-.94 2.06-2.06.94zm10 10l.94 2.06.94-2.06 2.06-.94-2.06-.94-.94-2.06-.94 2.06-2.06.94z\"/><path d=\"M17.41 7.96l-1.37-1.37c-.4-.4-.92-.59-1.43-.59-.52 0-1.04.2-1.43.59L10.3 9.45l-7.72 7.72c-.78.78-.78 2.05 0 2.83L4 21.41c.39.39.9.59 1.41.59.51 0 1.02-.2 1.41-.59l7.78-7.78 2.81-2.81c.8-.78.8-2.07 0-2.86zM5.41 20L4 18.59l7.72-7.72 1.47 1.35L5.41 20z\"/>\n",
       "  </svg>\n",
       "      </button>\n",
       "      \n",
       "  <style>\n",
       "    .colab-df-container {\n",
       "      display:flex;\n",
       "      flex-wrap:wrap;\n",
       "      gap: 12px;\n",
       "    }\n",
       "\n",
       "    .colab-df-convert {\n",
       "      background-color: #E8F0FE;\n",
       "      border: none;\n",
       "      border-radius: 50%;\n",
       "      cursor: pointer;\n",
       "      display: none;\n",
       "      fill: #1967D2;\n",
       "      height: 32px;\n",
       "      padding: 0 0 0 0;\n",
       "      width: 32px;\n",
       "    }\n",
       "\n",
       "    .colab-df-convert:hover {\n",
       "      background-color: #E2EBFA;\n",
       "      box-shadow: 0px 1px 2px rgba(60, 64, 67, 0.3), 0px 1px 3px 1px rgba(60, 64, 67, 0.15);\n",
       "      fill: #174EA6;\n",
       "    }\n",
       "\n",
       "    [theme=dark] .colab-df-convert {\n",
       "      background-color: #3B4455;\n",
       "      fill: #D2E3FC;\n",
       "    }\n",
       "\n",
       "    [theme=dark] .colab-df-convert:hover {\n",
       "      background-color: #434B5C;\n",
       "      box-shadow: 0px 1px 3px 1px rgba(0, 0, 0, 0.15);\n",
       "      filter: drop-shadow(0px 1px 2px rgba(0, 0, 0, 0.3));\n",
       "      fill: #FFFFFF;\n",
       "    }\n",
       "  </style>\n",
       "\n",
       "      <script>\n",
       "        const buttonEl =\n",
       "          document.querySelector('#df-b4df69da-d1bf-4594-8b63-f6831a8c55e5 button.colab-df-convert');\n",
       "        buttonEl.style.display =\n",
       "          google.colab.kernel.accessAllowed ? 'block' : 'none';\n",
       "\n",
       "        async function convertToInteractive(key) {\n",
       "          const element = document.querySelector('#df-b4df69da-d1bf-4594-8b63-f6831a8c55e5');\n",
       "          const dataTable =\n",
       "            await google.colab.kernel.invokeFunction('convertToInteractive',\n",
       "                                                     [key], {});\n",
       "          if (!dataTable) return;\n",
       "\n",
       "          const docLinkHtml = 'Like what you see? Visit the ' +\n",
       "            '<a target=\"_blank\" href=https://colab.research.google.com/notebooks/data_table.ipynb>data table notebook</a>'\n",
       "            + ' to learn more about interactive tables.';\n",
       "          element.innerHTML = '';\n",
       "          dataTable['output_type'] = 'display_data';\n",
       "          await google.colab.output.renderOutput(dataTable, element);\n",
       "          const docLink = document.createElement('div');\n",
       "          docLink.innerHTML = docLinkHtml;\n",
       "          element.appendChild(docLink);\n",
       "        }\n",
       "      </script>\n",
       "    </div>\n",
       "  </div>\n",
       "  "
      ],
      "text/plain": [
       "                            close\n",
       "date                             \n",
       "2017-01-12 00:00:00+00:00     NaN\n",
       "2017-01-13 00:00:00+00:00     NaN\n",
       "2017-01-14 00:00:00+00:00     NaN\n",
       "2017-01-15 00:00:00+00:00     NaN\n",
       "2017-01-16 00:00:00+00:00     NaN\n",
       "...                           ...\n",
       "2022-01-06 00:00:00+00:00  470.19\n",
       "2022-01-07 00:00:00+00:00  471.43\n",
       "2022-01-08 00:00:00+00:00  468.25\n",
       "2022-01-09 00:00:00+00:00  472.74\n",
       "2022-01-10 00:00:00+00:00  467.07\n",
       "\n",
       "[1825 rows x 1 columns]"
      ]
     },
     "execution_count": 62,
     "metadata": {},
     "output_type": "execute_result"
    }
   ],
   "source": [
    "IVV_baseline"
   ]
  },
  {
   "cell_type": "code",
   "execution_count": 63,
   "metadata": {
    "colab": {
     "base_uri": "https://localhost:8080/",
     "height": 455
    },
    "executionInfo": {
     "elapsed": 9,
     "status": "ok",
     "timestamp": 1642647912377,
     "user": {
      "displayName": "Jerry Vasquez",
      "photoUrl": "https://lh3.googleusercontent.com/a-/AOh14Gjbs6_R-H6LOkTu9UD1_yJk6oOg2n4wvCza7hMg=s64",
      "userId": "13038603259595704158"
     },
     "user_tz": 300
    },
    "id": "Ag770gVm5dJC",
    "outputId": "4f1d96d4-0f8d-4ff9-da72-ada60d056f99"
   },
   "outputs": [
    {
     "data": {
      "text/html": [
       "\n",
       "  <div id=\"df-e5b99f2f-a40f-4089-a016-9fd9a0146028\">\n",
       "    <div class=\"colab-df-container\">\n",
       "      <div>\n",
       "<style scoped>\n",
       "    .dataframe tbody tr th:only-of-type {\n",
       "        vertical-align: middle;\n",
       "    }\n",
       "\n",
       "    .dataframe tbody tr th {\n",
       "        vertical-align: top;\n",
       "    }\n",
       "\n",
       "    .dataframe thead th {\n",
       "        text-align: right;\n",
       "    }\n",
       "</style>\n",
       "<table border=\"1\" class=\"dataframe\">\n",
       "  <thead>\n",
       "    <tr style=\"text-align: right;\">\n",
       "      <th></th>\n",
       "      <th>close</th>\n",
       "    </tr>\n",
       "    <tr>\n",
       "      <th>date</th>\n",
       "      <th></th>\n",
       "    </tr>\n",
       "  </thead>\n",
       "  <tbody>\n",
       "    <tr>\n",
       "      <th>2017-01-12 00:00:00+00:00</th>\n",
       "      <td>227.97</td>\n",
       "    </tr>\n",
       "    <tr>\n",
       "      <th>2017-01-13 00:00:00+00:00</th>\n",
       "      <td>228.39</td>\n",
       "    </tr>\n",
       "    <tr>\n",
       "      <th>2017-01-14 00:00:00+00:00</th>\n",
       "      <td>227.64</td>\n",
       "    </tr>\n",
       "    <tr>\n",
       "      <th>2017-01-15 00:00:00+00:00</th>\n",
       "      <td>227.64</td>\n",
       "    </tr>\n",
       "    <tr>\n",
       "      <th>2017-01-16 00:00:00+00:00</th>\n",
       "      <td>227.64</td>\n",
       "    </tr>\n",
       "    <tr>\n",
       "      <th>...</th>\n",
       "      <td>...</td>\n",
       "    </tr>\n",
       "    <tr>\n",
       "      <th>2022-01-06 00:00:00+00:00</th>\n",
       "      <td>469.98</td>\n",
       "    </tr>\n",
       "    <tr>\n",
       "      <th>2022-01-07 00:00:00+00:00</th>\n",
       "      <td>468.10</td>\n",
       "    </tr>\n",
       "    <tr>\n",
       "      <th>2022-01-08 00:00:00+00:00</th>\n",
       "      <td>467.22</td>\n",
       "    </tr>\n",
       "    <tr>\n",
       "      <th>2022-01-09 00:00:00+00:00</th>\n",
       "      <td>467.22</td>\n",
       "    </tr>\n",
       "    <tr>\n",
       "      <th>2022-01-10 00:00:00+00:00</th>\n",
       "      <td>467.22</td>\n",
       "    </tr>\n",
       "  </tbody>\n",
       "</table>\n",
       "<p>1825 rows × 1 columns</p>\n",
       "</div>\n",
       "      <button class=\"colab-df-convert\" onclick=\"convertToInteractive('df-e5b99f2f-a40f-4089-a016-9fd9a0146028')\"\n",
       "              title=\"Convert this dataframe to an interactive table.\"\n",
       "              style=\"display:none;\">\n",
       "        \n",
       "  <svg xmlns=\"http://www.w3.org/2000/svg\" height=\"24px\"viewBox=\"0 0 24 24\"\n",
       "       width=\"24px\">\n",
       "    <path d=\"M0 0h24v24H0V0z\" fill=\"none\"/>\n",
       "    <path d=\"M18.56 5.44l.94 2.06.94-2.06 2.06-.94-2.06-.94-.94-2.06-.94 2.06-2.06.94zm-11 1L8.5 8.5l.94-2.06 2.06-.94-2.06-.94L8.5 2.5l-.94 2.06-2.06.94zm10 10l.94 2.06.94-2.06 2.06-.94-2.06-.94-.94-2.06-.94 2.06-2.06.94z\"/><path d=\"M17.41 7.96l-1.37-1.37c-.4-.4-.92-.59-1.43-.59-.52 0-1.04.2-1.43.59L10.3 9.45l-7.72 7.72c-.78.78-.78 2.05 0 2.83L4 21.41c.39.39.9.59 1.41.59.51 0 1.02-.2 1.41-.59l7.78-7.78 2.81-2.81c.8-.78.8-2.07 0-2.86zM5.41 20L4 18.59l7.72-7.72 1.47 1.35L5.41 20z\"/>\n",
       "  </svg>\n",
       "      </button>\n",
       "      \n",
       "  <style>\n",
       "    .colab-df-container {\n",
       "      display:flex;\n",
       "      flex-wrap:wrap;\n",
       "      gap: 12px;\n",
       "    }\n",
       "\n",
       "    .colab-df-convert {\n",
       "      background-color: #E8F0FE;\n",
       "      border: none;\n",
       "      border-radius: 50%;\n",
       "      cursor: pointer;\n",
       "      display: none;\n",
       "      fill: #1967D2;\n",
       "      height: 32px;\n",
       "      padding: 0 0 0 0;\n",
       "      width: 32px;\n",
       "    }\n",
       "\n",
       "    .colab-df-convert:hover {\n",
       "      background-color: #E2EBFA;\n",
       "      box-shadow: 0px 1px 2px rgba(60, 64, 67, 0.3), 0px 1px 3px 1px rgba(60, 64, 67, 0.15);\n",
       "      fill: #174EA6;\n",
       "    }\n",
       "\n",
       "    [theme=dark] .colab-df-convert {\n",
       "      background-color: #3B4455;\n",
       "      fill: #D2E3FC;\n",
       "    }\n",
       "\n",
       "    [theme=dark] .colab-df-convert:hover {\n",
       "      background-color: #434B5C;\n",
       "      box-shadow: 0px 1px 3px 1px rgba(0, 0, 0, 0.15);\n",
       "      filter: drop-shadow(0px 1px 2px rgba(0, 0, 0, 0.3));\n",
       "      fill: #FFFFFF;\n",
       "    }\n",
       "  </style>\n",
       "\n",
       "      <script>\n",
       "        const buttonEl =\n",
       "          document.querySelector('#df-e5b99f2f-a40f-4089-a016-9fd9a0146028 button.colab-df-convert');\n",
       "        buttonEl.style.display =\n",
       "          google.colab.kernel.accessAllowed ? 'block' : 'none';\n",
       "\n",
       "        async function convertToInteractive(key) {\n",
       "          const element = document.querySelector('#df-e5b99f2f-a40f-4089-a016-9fd9a0146028');\n",
       "          const dataTable =\n",
       "            await google.colab.kernel.invokeFunction('convertToInteractive',\n",
       "                                                     [key], {});\n",
       "          if (!dataTable) return;\n",
       "\n",
       "          const docLinkHtml = 'Like what you see? Visit the ' +\n",
       "            '<a target=\"_blank\" href=https://colab.research.google.com/notebooks/data_table.ipynb>data table notebook</a>'\n",
       "            + ' to learn more about interactive tables.';\n",
       "          element.innerHTML = '';\n",
       "          dataTable['output_type'] = 'display_data';\n",
       "          await google.colab.output.renderOutput(dataTable, element);\n",
       "          const docLink = document.createElement('div');\n",
       "          docLink.innerHTML = docLinkHtml;\n",
       "          element.appendChild(docLink);\n",
       "        }\n",
       "      </script>\n",
       "    </div>\n",
       "  </div>\n",
       "  "
      ],
      "text/plain": [
       "                            close\n",
       "date                             \n",
       "2017-01-12 00:00:00+00:00  227.97\n",
       "2017-01-13 00:00:00+00:00  228.39\n",
       "2017-01-14 00:00:00+00:00  227.64\n",
       "2017-01-15 00:00:00+00:00  227.64\n",
       "2017-01-16 00:00:00+00:00  227.64\n",
       "...                           ...\n",
       "2022-01-06 00:00:00+00:00  469.98\n",
       "2022-01-07 00:00:00+00:00  468.10\n",
       "2022-01-08 00:00:00+00:00  467.22\n",
       "2022-01-09 00:00:00+00:00  467.22\n",
       "2022-01-10 00:00:00+00:00  467.22\n",
       "\n",
       "[1825 rows x 1 columns]"
      ]
     },
     "execution_count": 63,
     "metadata": {},
     "output_type": "execute_result"
    }
   ],
   "source": [
    "IVV"
   ]
  },
  {
   "cell_type": "code",
   "execution_count": 64,
   "metadata": {
    "colab": {
     "base_uri": "https://localhost:8080/",
     "height": 303
    },
    "executionInfo": {
     "elapsed": 328,
     "status": "ok",
     "timestamp": 1642647912696,
     "user": {
      "displayName": "Jerry Vasquez",
      "photoUrl": "https://lh3.googleusercontent.com/a-/AOh14Gjbs6_R-H6LOkTu9UD1_yJk6oOg2n4wvCza7hMg=s64",
      "userId": "13038603259595704158"
     },
     "user_tz": 300
    },
    "id": "gX1aS6gD0lSh",
    "outputId": "fa4aec83-ab67-4f75-eb88-232fc292564a"
   },
   "outputs": [
    {
     "data": {
      "image/png": "[encoded data removed]",
      "text/plain": [
       "<Figure size 720x288 with 1 Axes>"
      ]
     },
     "metadata": {},
     "output_type": "display_data"
    }
   ],
   "source": [
    "fig, ax = plt.subplots(figsize=(10,4))\n",
    "ax.set_title(\"Baseline Forecast\")\n",
    "ax.plot(IVV,c='b',label='Actual')\n",
    "ax.plot(IVV_baseline,c='r',label='Baseline')\n",
    "plt.legend()\n",
    "plt.show()"
   ]
  },
  {
   "cell_type": "code",
   "execution_count": 65,
   "metadata": {
    "executionInfo": {
     "elapsed": 11,
     "status": "ok",
     "timestamp": 1642647912697,
     "user": {
      "displayName": "Jerry Vasquez",
      "photoUrl": "https://lh3.googleusercontent.com/a-/AOh14Gjbs6_R-H6LOkTu9UD1_yJk6oOg2n4wvCza7hMg=s64",
      "userId": "13038603259595704158"
     },
     "user_tz": 300
    },
    "id": "o5ykknQW0lWn"
   },
   "outputs": [],
   "source": [
    "new_df = pd.DataFrame()\n",
    "new_df['original'] = IVV['close']\n",
    "new_df['shifted'] = IVV['close'].shift(30)\n",
    "cutoff = int(len(new_df['original']) * 0.80)\n",
    "original = new_df['original']\n",
    "shifted = new_df['shifted']\n",
    "original_train, original_test = original[30:cutoff], original[cutoff:]\n",
    "shifted_train, shifted_test = shifted[30:cutoff], shifted[cutoff:]"
   ]
  },
  {
   "cell_type": "code",
   "execution_count": 66,
   "metadata": {
    "colab": {
     "base_uri": "https://localhost:8080/"
    },
    "executionInfo": {
     "elapsed": 10,
     "status": "ok",
     "timestamp": 1642647912697,
     "user": {
      "displayName": "Jerry Vasquez",
      "photoUrl": "https://lh3.googleusercontent.com/a-/AOh14Gjbs6_R-H6LOkTu9UD1_yJk6oOg2n4wvCza7hMg=s64",
      "userId": "13038603259595704158"
     },
     "user_tz": 300
    },
    "id": "Yl11m-7O0lZN",
    "outputId": "d58b7082-097b-41bb-de78-848172ae0119"
   },
   "outputs": [
    {
     "data": {
      "text/plain": [
       "16.09170879619279"
      ]
     },
     "execution_count": 66,
     "metadata": {},
     "output_type": "execute_result"
    }
   ],
   "source": [
    "baseline_rmse = mean_squared_error(original_train,shifted_train,squared=False)\n",
    "baseline_rmse"
   ]
  },
  {
   "cell_type": "code",
   "execution_count": 67,
   "metadata": {
    "colab": {
     "base_uri": "https://localhost:8080/",
     "height": 303
    },
    "executionInfo": {
     "elapsed": 7,
     "status": "ok",
     "timestamp": 1642647912698,
     "user": {
      "displayName": "Jerry Vasquez",
      "photoUrl": "https://lh3.googleusercontent.com/a-/AOh14Gjbs6_R-H6LOkTu9UD1_yJk6oOg2n4wvCza7hMg=s64",
      "userId": "13038603259595704158"
     },
     "user_tz": 300
    },
    "id": "GdCkivvO0len",
    "outputId": "f33a00a6-bef6-408a-e2c7-35a6df517df5"
   },
   "outputs": [
    {
     "data": {
      "image/png": "[encoded data removed]",
      "text/plain": [
       "<Figure size 720x288 with 1 Axes>"
      ]
     },
     "metadata": {},
     "output_type": "display_data"
    }
   ],
   "source": [
    "plt.figure(figsize=(10,4))\n",
    "plt.title('IVV Baseline Forecast')\n",
    "plt.plot(original_train,label='Train')\n",
    "plt.plot(original_test,c='r',label='Actual')\n",
    "plt.plot(shifted_test,c='blue',label='Baseline Predictions')\n",
    "plt.legend()\n",
    "plt.show()"
   ]
  },
  {
   "cell_type": "markdown",
   "metadata": {
    "id": "nusF8-_K9epe"
   },
   "source": [
    "### ARIMA Model"
   ]
  },
  {
   "cell_type": "code",
   "execution_count": 68,
   "metadata": {
    "executionInfo": {
     "elapsed": 6,
     "status": "ok",
     "timestamp": 1642647912698,
     "user": {
      "displayName": "Jerry Vasquez",
      "photoUrl": "https://lh3.googleusercontent.com/a-/AOh14Gjbs6_R-H6LOkTu9UD1_yJk6oOg2n4wvCza7hMg=s64",
      "userId": "13038603259595704158"
     },
     "user_tz": 300
    },
    "id": "jbZUNymE0lhp"
   },
   "outputs": [],
   "source": [
    "def get_combos(n,k):\n",
    "    p = d = q = range(n, k)\n",
    "    pdq = list(itertools.product(p, d, q))\n",
    "    pdqs = [(x[0], x[1], x[2]) for x in list(itertools.product(p, d, q))]\n",
    "    return pdqs\n",
    "\n",
    "def get_optimal_params(ts,n,k):\n",
    "    pdq = get_combos(n,k)\n",
    "    ans = []\n",
    "    for comb in pdq:\n",
    "        try:\n",
    "            model = ARIMA(ts,\n",
    "                         order=comb)\n",
    "            output = model.fit()\n",
    "            ans.append([comb,output.aic])\n",
    "        except:\n",
    "            continue\n",
    "    ans_df = pd.DataFrame(ans, columns=['pdq','aic'])\n",
    "    optimals = ans_df.loc[ans_df['aic'].idxmin()]\n",
    "    return optimals\n",
    "\n",
    "def arima_models(ts,n,k):\n",
    "    order = get_optimal_params(ts,n,k)['pdq']\n",
    "    model = ARIMA(ts,\n",
    "                 order=order)\n",
    "    output = model.fit()\n",
    "    return output\n",
    "\n"
   ]
  },
  {
   "cell_type": "code",
   "execution_count": 69,
   "metadata": {
    "executionInfo": {
     "elapsed": 6,
     "status": "ok",
     "timestamp": 1642647912698,
     "user": {
      "displayName": "Jerry Vasquez",
      "photoUrl": "https://lh3.googleusercontent.com/a-/AOh14Gjbs6_R-H6LOkTu9UD1_yJk6oOg2n4wvCza7hMg=s64",
      "userId": "13038603259595704158"
     },
     "user_tz": 300
    },
    "id": "g6-1F6H_9uMM"
   },
   "outputs": [],
   "source": [
    "def train_test_splt(ts,test_size):\n",
    "    cutoff = int(ts.shape[0]*(1-test_size))\n",
    "    train = ts[:cutoff]\n",
    "    test = ts[cutoff:]\n",
    "    return train, test\n",
    "\n",
    "IVV_train, IVV_test = train_test_splt(IVV,.2)"
   ]
  },
  {
   "cell_type": "code",
   "execution_count": 70,
   "metadata": {
    "colab": {
     "base_uri": "https://localhost:8080/",
     "height": 494
    },
    "executionInfo": {
     "elapsed": 16584,
     "status": "ok",
     "timestamp": 1642647929276,
     "user": {
      "displayName": "Jerry Vasquez",
      "photoUrl": "https://lh3.googleusercontent.com/a-/AOh14Gjbs6_R-H6LOkTu9UD1_yJk6oOg2n4wvCza7hMg=s64",
      "userId": "13038603259595704158"
     },
     "user_tz": 300
    },
    "id": "B0jxRH730lj-",
    "outputId": "a910a945-5692-4359-ec47-afc7d23f7d2c"
   },
   "outputs": [
    {
     "name": "stdout",
     "output_type": "stream",
     "text": [
      "pdq    (2, 1, 2)\n",
      "aic      7261.01\n",
      "Name: 22, dtype: object\n"
     ]
    },
    {
     "data": {
      "text/html": [
       "<table class=\"simpletable\">\n",
       "<caption>ARIMA Model Results</caption>\n",
       "<tr>\n",
       "  <th>Dep. Variable:</th>      <td>D.close</td>     <th>  No. Observations:  </th>   <td>1459</td>   \n",
       "</tr>\n",
       "<tr>\n",
       "  <th>Model:</th>          <td>ARIMA(2, 1, 2)</td>  <th>  Log Likelihood     </th> <td>-3624.505</td>\n",
       "</tr>\n",
       "<tr>\n",
       "  <th>Method:</th>             <td>css-mle</td>     <th>  S.D. of innovations</th>   <td>2.901</td>  \n",
       "</tr>\n",
       "<tr>\n",
       "  <th>Date:</th>          <td>Thu, 20 Jan 2022</td> <th>  AIC                </th> <td>7261.010</td> \n",
       "</tr>\n",
       "<tr>\n",
       "  <th>Time:</th>              <td>03:05:28</td>     <th>  BIC                </th> <td>7292.723</td> \n",
       "</tr>\n",
       "<tr>\n",
       "  <th>Sample:</th>           <td>01-13-2017</td>    <th>  HQIC               </th> <td>7272.841</td> \n",
       "</tr>\n",
       "<tr>\n",
       "  <th></th>                 <td>- 01-10-2021</td>   <th>                     </th>     <td> </td>    \n",
       "</tr>\n",
       "</table>\n",
       "<table class=\"simpletable\">\n",
       "<tr>\n",
       "        <td></td>           <th>coef</th>     <th>std err</th>      <th>z</th>      <th>P>|z|</th>  <th>[0.025</th>    <th>0.975]</th>  \n",
       "</tr>\n",
       "<tr>\n",
       "  <th>const</th>         <td>    0.1043</td> <td>    0.072</td> <td>    1.447</td> <td> 0.148</td> <td>   -0.037</td> <td>    0.245</td>\n",
       "</tr>\n",
       "<tr>\n",
       "  <th>ar.L1.D.close</th> <td>   -1.8286</td> <td>    0.023</td> <td>  -80.986</td> <td> 0.000</td> <td>   -1.873</td> <td>   -1.784</td>\n",
       "</tr>\n",
       "<tr>\n",
       "  <th>ar.L2.D.close</th> <td>   -0.8940</td> <td>    0.022</td> <td>  -40.224</td> <td> 0.000</td> <td>   -0.938</td> <td>   -0.850</td>\n",
       "</tr>\n",
       "<tr>\n",
       "  <th>ma.L1.D.close</th> <td>    1.7435</td> <td>    0.030</td> <td>   57.257</td> <td> 0.000</td> <td>    1.684</td> <td>    1.803</td>\n",
       "</tr>\n",
       "<tr>\n",
       "  <th>ma.L2.D.close</th> <td>    0.7875</td> <td>    0.029</td> <td>   26.925</td> <td> 0.000</td> <td>    0.730</td> <td>    0.845</td>\n",
       "</tr>\n",
       "</table>\n",
       "<table class=\"simpletable\">\n",
       "<caption>Roots</caption>\n",
       "<tr>\n",
       "    <td></td>   <th>            Real</th>  <th>         Imaginary</th> <th>         Modulus</th>  <th>        Frequency</th>\n",
       "</tr>\n",
       "<tr>\n",
       "  <th>AR.1</th> <td>          -1.0227</td> <td>          -0.2696j</td> <td>           1.0576</td> <td>          -0.4590</td>\n",
       "</tr>\n",
       "<tr>\n",
       "  <th>AR.2</th> <td>          -1.0227</td> <td>          +0.2696j</td> <td>           1.0576</td> <td>           0.4590</td>\n",
       "</tr>\n",
       "<tr>\n",
       "  <th>MA.1</th> <td>          -1.1070</td> <td>          -0.2108j</td> <td>           1.1269</td> <td>          -0.4701</td>\n",
       "</tr>\n",
       "<tr>\n",
       "  <th>MA.2</th> <td>          -1.1070</td> <td>          +0.2108j</td> <td>           1.1269</td> <td>           0.4701</td>\n",
       "</tr>\n",
       "</table>"
      ],
      "text/plain": [
       "<class 'statsmodels.iolib.summary.Summary'>\n",
       "\"\"\"\n",
       "                             ARIMA Model Results                              \n",
       "==============================================================================\n",
       "Dep. Variable:                D.close   No. Observations:                 1459\n",
       "Model:                 ARIMA(2, 1, 2)   Log Likelihood               -3624.505\n",
       "Method:                       css-mle   S.D. of innovations              2.901\n",
       "Date:                Thu, 20 Jan 2022   AIC                           7261.010\n",
       "Time:                        03:05:28   BIC                           7292.723\n",
       "Sample:                    01-13-2017   HQIC                          7272.841\n",
       "                         - 01-10-2021                                         \n",
       "=================================================================================\n",
       "                    coef    std err          z      P>|z|      [0.025      0.975]\n",
       "---------------------------------------------------------------------------------\n",
       "const             0.1043      0.072      1.447      0.148      -0.037       0.245\n",
       "ar.L1.D.close    -1.8286      0.023    -80.986      0.000      -1.873      -1.784\n",
       "ar.L2.D.close    -0.8940      0.022    -40.224      0.000      -0.938      -0.850\n",
       "ma.L1.D.close     1.7435      0.030     57.257      0.000       1.684       1.803\n",
       "ma.L2.D.close     0.7875      0.029     26.925      0.000       0.730       0.845\n",
       "                                    Roots                                    \n",
       "=============================================================================\n",
       "                  Real          Imaginary           Modulus         Frequency\n",
       "-----------------------------------------------------------------------------\n",
       "AR.1           -1.0227           -0.2696j            1.0576           -0.4590\n",
       "AR.2           -1.0227           +0.2696j            1.0576            0.4590\n",
       "MA.1           -1.1070           -0.2108j            1.1269           -0.4701\n",
       "MA.2           -1.1070           +0.2108j            1.1269            0.4701\n",
       "-----------------------------------------------------------------------------\n",
       "\"\"\""
      ]
     },
     "execution_count": 70,
     "metadata": {},
     "output_type": "execute_result"
    }
   ],
   "source": [
    "# Find optimal pdq\n",
    "print(get_optimal_params(IVV_train,0,3))\n",
    "\n",
    "# Fit ARIMA with optimal pdq\n",
    "arima_model = arima_models(IVV_train,0,3)\n",
    "\n",
    "# Summary of model\n",
    "arima_model.summary()"
   ]
  },
  {
   "cell_type": "code",
   "execution_count": 71,
   "metadata": {
    "executionInfo": {
     "elapsed": 11,
     "status": "ok",
     "timestamp": 1642647929277,
     "user": {
      "displayName": "Jerry Vasquez",
      "photoUrl": "https://lh3.googleusercontent.com/a-/AOh14Gjbs6_R-H6LOkTu9UD1_yJk6oOg2n4wvCza7hMg=s64",
      "userId": "13038603259595704158"
     },
     "user_tz": 300
    },
    "id": "GnFbn7on0l1S"
   },
   "outputs": [],
   "source": [
    "# arima_model.plot_diagnostics(figsize=(12,8))\n",
    "# plt.tight_layout();"
   ]
  },
  {
   "cell_type": "code",
   "execution_count": 72,
   "metadata": {
    "executionInfo": {
     "elapsed": 9,
     "status": "ok",
     "timestamp": 1642647929277,
     "user": {
      "displayName": "Jerry Vasquez",
      "photoUrl": "https://lh3.googleusercontent.com/a-/AOh14Gjbs6_R-H6LOkTu9UD1_yJk6oOg2n4wvCza7hMg=s64",
      "userId": "13038603259595704158"
     },
     "user_tz": 300
    },
    "id": "zzohHLCK0l3y"
   },
   "outputs": [],
   "source": [
    "def find_rmse(model, test_data):\n",
    "    y_hat = model.predict(start=test_data.index[0], end=test_data.index[-1], typ='levels')\n",
    "    return y_hat, np.sqrt(mean_squared_error(test_data, y_hat))"
   ]
  },
  {
   "cell_type": "code",
   "execution_count": 73,
   "metadata": {
    "executionInfo": {
     "elapsed": 9,
     "status": "ok",
     "timestamp": 1642647929277,
     "user": {
      "displayName": "Jerry Vasquez",
      "photoUrl": "https://lh3.googleusercontent.com/a-/AOh14Gjbs6_R-H6LOkTu9UD1_yJk6oOg2n4wvCza7hMg=s64",
      "userId": "13038603259595704158"
     },
     "user_tz": 300
    },
    "id": "tdcIHamb0kMk"
   },
   "outputs": [],
   "source": [
    "yhat ,arima_rmse = find_rmse(arima_model,IVV_test)"
   ]
  },
  {
   "cell_type": "code",
   "execution_count": 74,
   "metadata": {
    "colab": {
     "base_uri": "https://localhost:8080/"
    },
    "executionInfo": {
     "elapsed": 8,
     "status": "ok",
     "timestamp": 1642647929277,
     "user": {
      "displayName": "Jerry Vasquez",
      "photoUrl": "https://lh3.googleusercontent.com/a-/AOh14Gjbs6_R-H6LOkTu9UD1_yJk6oOg2n4wvCza7hMg=s64",
      "userId": "13038603259595704158"
     },
     "user_tz": 300
    },
    "id": "UirMgXptAQM0",
    "outputId": "20d4f798-8ff5-49f3-e979-017bc22bb908"
   },
   "outputs": [
    {
     "data": {
      "text/plain": [
       "2021-01-11 00:00:00+00:00    380.357082\n",
       "2021-01-12 00:00:00+00:00    380.344708\n",
       "2021-01-13 00:00:00+00:00    380.561436\n",
       "2021-01-14 00:00:00+00:00    380.564370\n",
       "2021-01-15 00:00:00+00:00    380.753421\n",
       "                                ...    \n",
       "2022-01-06 00:00:00+00:00    417.837874\n",
       "2022-01-07 00:00:00+00:00    417.942150\n",
       "2022-01-08 00:00:00+00:00    418.046425\n",
       "2022-01-09 00:00:00+00:00    418.150701\n",
       "2022-01-10 00:00:00+00:00    418.254977\n",
       "Freq: D, Length: 365, dtype: float64"
      ]
     },
     "execution_count": 74,
     "metadata": {},
     "output_type": "execute_result"
    }
   ],
   "source": [
    "yhat"
   ]
  },
  {
   "cell_type": "code",
   "execution_count": 75,
   "metadata": {
    "colab": {
     "base_uri": "https://localhost:8080/"
    },
    "executionInfo": {
     "elapsed": 6,
     "status": "ok",
     "timestamp": 1642647929277,
     "user": {
      "displayName": "Jerry Vasquez",
      "photoUrl": "https://lh3.googleusercontent.com/a-/AOh14Gjbs6_R-H6LOkTu9UD1_yJk6oOg2n4wvCza7hMg=s64",
      "userId": "13038603259595704158"
     },
     "user_tz": 300
    },
    "id": "mzRtTp4qAQRG",
    "outputId": "51aac40a-ca77-475e-b9aa-eb4a505c72a3"
   },
   "outputs": [
    {
     "data": {
      "text/plain": [
       "36.02660029749581"
      ]
     },
     "execution_count": 75,
     "metadata": {},
     "output_type": "execute_result"
    }
   ],
   "source": [
    "arima_rmse"
   ]
  },
  {
   "cell_type": "code",
   "execution_count": 76,
   "metadata": {
    "colab": {
     "base_uri": "https://localhost:8080/",
     "height": 325
    },
    "executionInfo": {
     "elapsed": 397,
     "status": "ok",
     "timestamp": 1642647929670,
     "user": {
      "displayName": "Jerry Vasquez",
      "photoUrl": "https://lh3.googleusercontent.com/a-/AOh14Gjbs6_R-H6LOkTu9UD1_yJk6oOg2n4wvCza7hMg=s64",
      "userId": "13038603259595704158"
     },
     "user_tz": 300
    },
    "id": "7vKo-aw10jCq",
    "outputId": "5cd8a4fa-589a-4249-a1dd-84b85a12572d"
   },
   "outputs": [
    {
     "data": {
      "image/png": "[encoded data removed]",
      "text/plain": [
       "<Figure size 1080x288 with 1 Axes>"
      ]
     },
     "metadata": {},
     "output_type": "display_data"
    }
   ],
   "source": [
    "plt.figure(figsize=(15,4))\n",
    "plt.title('ARIMA model IVV Forecast')\n",
    "plt.xlabel('Date')\n",
    "plt.ylabel('Close Price in USD ($)')\n",
    "plt.plot(IVV_train,c=\"blue\",label='Train')\n",
    "plt.plot(IVV_test,c='green',label='Actual')\n",
    "plt.plot(yhat, c='red',label='Predictions')\n",
    "plt.legend()\n",
    "plt.show()"
   ]
  },
  {
   "cell_type": "markdown",
   "metadata": {
    "id": "Vm3tBpBbAawK"
   },
   "source": [
    "### LSTM Model"
   ]
  },
  {
   "cell_type": "code",
   "execution_count": 77,
   "metadata": {
    "colab": {
     "base_uri": "https://localhost:8080/"
    },
    "executionInfo": {
     "elapsed": 14,
     "status": "ok",
     "timestamp": 1642647929670,
     "user": {
      "displayName": "Jerry Vasquez",
      "photoUrl": "https://lh3.googleusercontent.com/a-/AOh14Gjbs6_R-H6LOkTu9UD1_yJk6oOg2n4wvCza7hMg=s64",
      "userId": "13038603259595704158"
     },
     "user_tz": 300
    },
    "id": "Jd3m14ZWPYg1",
    "outputId": "40d21249-5658-4b95-faaf-d04ab5003095"
   },
   "outputs": [
    {
     "data": {
      "text/plain": [
       "1460"
      ]
     },
     "execution_count": 77,
     "metadata": {},
     "output_type": "execute_result"
    }
   ],
   "source": [
    "data = IVV.filter(['close'])\n",
    "dataset = data.values\n",
    "cutoff = int(len(dataset)*0.8)\n",
    "cutoff"
   ]
  },
  {
   "cell_type": "code",
   "execution_count": 78,
   "metadata": {
    "colab": {
     "base_uri": "https://localhost:8080/"
    },
    "executionInfo": {
     "elapsed": 11,
     "status": "ok",
     "timestamp": 1642647929670,
     "user": {
      "displayName": "Jerry Vasquez",
      "photoUrl": "https://lh3.googleusercontent.com/a-/AOh14Gjbs6_R-H6LOkTu9UD1_yJk6oOg2n4wvCza7hMg=s64",
      "userId": "13038603259595704158"
     },
     "user_tz": 300
    },
    "id": "kyTIS1MrP81e",
    "outputId": "6080e329-6942-4662-9045-c2c740d4a570"
   },
   "outputs": [
    {
     "data": {
      "text/plain": [
       "array([[0.01300991],\n",
       "       [0.01465575],\n",
       "       [0.01171676],\n",
       "       ...,\n",
       "       [0.95054665],\n",
       "       [0.95054665],\n",
       "       [0.95054665]])"
      ]
     },
     "execution_count": 78,
     "metadata": {},
     "output_type": "execute_result"
    }
   ],
   "source": [
    "# Scale the data\n",
    "scaler = MinMaxScaler(feature_range=(0,1))\n",
    "scaled_data = scaler.fit_transform(dataset)\n",
    "scaled_data"
   ]
  },
  {
   "cell_type": "code",
   "execution_count": 79,
   "metadata": {
    "executionInfo": {
     "elapsed": 11,
     "status": "ok",
     "timestamp": 1642647929671,
     "user": {
      "displayName": "Jerry Vasquez",
      "photoUrl": "https://lh3.googleusercontent.com/a-/AOh14Gjbs6_R-H6LOkTu9UD1_yJk6oOg2n4wvCza7hMg=s64",
      "userId": "13038603259595704158"
     },
     "user_tz": 300
    },
    "id": "JgBUA1fwQX51"
   },
   "outputs": [],
   "source": [
    "# create scaled training set\n",
    "train_data = scaled_data[0:cutoff,:]\n",
    "X_train = []\n",
    "y_train = []\n",
    "\n",
    "for i in range(60,len(train_data)):\n",
    "    X_train.append(train_data[i-60:i,0])\n",
    "    y_train.append(train_data[i,0])"
   ]
  },
  {
   "cell_type": "code",
   "execution_count": 80,
   "metadata": {
    "executionInfo": {
     "elapsed": 11,
     "status": "ok",
     "timestamp": 1642647929671,
     "user": {
      "displayName": "Jerry Vasquez",
      "photoUrl": "https://lh3.googleusercontent.com/a-/AOh14Gjbs6_R-H6LOkTu9UD1_yJk6oOg2n4wvCza7hMg=s64",
      "userId": "13038603259595704158"
     },
     "user_tz": 300
    },
    "id": "e8jRBfiwSS4q"
   },
   "outputs": [],
   "source": [
    "# convert X_train and y_train to numpy arrays for training the model\n",
    "X_train, y_train = np.array(X_train), np.array(y_train)"
   ]
  },
  {
   "cell_type": "code",
   "execution_count": 81,
   "metadata": {
    "colab": {
     "base_uri": "https://localhost:8080/"
    },
    "executionInfo": {
     "elapsed": 10,
     "status": "ok",
     "timestamp": 1642647929671,
     "user": {
      "displayName": "Jerry Vasquez",
      "photoUrl": "https://lh3.googleusercontent.com/a-/AOh14Gjbs6_R-H6LOkTu9UD1_yJk6oOg2n4wvCza7hMg=s64",
      "userId": "13038603259595704158"
     },
     "user_tz": 300
    },
    "id": "crA5EyGMSsnC",
    "outputId": "b5bda6e3-6d02-4e66-f418-161eb97b6b1b"
   },
   "outputs": [
    {
     "name": "stdout",
     "output_type": "stream",
     "text": [
      "(1400, 60)\n",
      "(1400, 60, 1)\n"
     ]
    }
   ],
   "source": [
    "# reshape X_train for LSTM model\n",
    "print(X_train.shape)\n",
    "X_train = np.reshape(X_train, (X_train.shape[0], X_train.shape[1], 1))\n",
    "print(X_train.shape)"
   ]
  },
  {
   "cell_type": "code",
   "execution_count": 82,
   "metadata": {
    "executionInfo": {
     "elapsed": 532,
     "status": "ok",
     "timestamp": 1642647930194,
     "user": {
      "displayName": "Jerry Vasquez",
      "photoUrl": "https://lh3.googleusercontent.com/a-/AOh14Gjbs6_R-H6LOkTu9UD1_yJk6oOg2n4wvCza7hMg=s64",
      "userId": "13038603259595704158"
     },
     "user_tz": 300
    },
    "id": "OmZTZkUZTWQw"
   },
   "outputs": [],
   "source": [
    "# Build the LSTM model\n",
    "model = Sequential()\n",
    "model.add(LSTM(50, return_sequences=True, input_shape=(X_train.shape[1],1)))\n",
    "model.add(LSTM(50,return_sequences=False))\n",
    "model.add(Dense(25))\n",
    "model.add(Dense(1))"
   ]
  },
  {
   "cell_type": "code",
   "execution_count": 83,
   "metadata": {
    "executionInfo": {
     "elapsed": 2,
     "status": "ok",
     "timestamp": 1642647930194,
     "user": {
      "displayName": "Jerry Vasquez",
      "photoUrl": "https://lh3.googleusercontent.com/a-/AOh14Gjbs6_R-H6LOkTu9UD1_yJk6oOg2n4wvCza7hMg=s64",
      "userId": "13038603259595704158"
     },
     "user_tz": 300
    },
    "id": "ce3bwwFDURUH"
   },
   "outputs": [],
   "source": [
    "# compile the model\n",
    "model.compile(optimizer='adam',loss='mean_squared_error')"
   ]
  },
  {
   "cell_type": "code",
   "execution_count": 84,
   "metadata": {
    "colab": {
     "base_uri": "https://localhost:8080/"
    },
    "executionInfo": {
     "elapsed": 37562,
     "status": "ok",
     "timestamp": 1642647967755,
     "user": {
      "displayName": "Jerry Vasquez",
      "photoUrl": "https://lh3.googleusercontent.com/a-/AOh14Gjbs6_R-H6LOkTu9UD1_yJk6oOg2n4wvCza7hMg=s64",
      "userId": "13038603259595704158"
     },
     "user_tz": 300
    },
    "id": "uhlspNxPUdNu",
    "outputId": "d71962a9-1588-4474-87a9-128321eaac7f"
   },
   "outputs": [
    {
     "name": "stdout",
     "output_type": "stream",
     "text": [
      "1400/1400 [==============================] - 38s 25ms/step - loss: 9.1041e-04\n"
     ]
    },
    {
     "data": {
      "text/plain": [
       "<keras.callbacks.History at 0x7f03ea972750>"
      ]
     },
     "execution_count": 84,
     "metadata": {},
     "output_type": "execute_result"
    }
   ],
   "source": [
    "# train the model\n",
    "model.fit(X_train, y_train, batch_size=1,epochs=1)"
   ]
  },
  {
   "cell_type": "code",
   "execution_count": 85,
   "metadata": {
    "colab": {
     "base_uri": "https://localhost:8080/"
    },
    "executionInfo": {
     "elapsed": 14,
     "status": "ok",
     "timestamp": 1642647967756,
     "user": {
      "displayName": "Jerry Vasquez",
      "photoUrl": "https://lh3.googleusercontent.com/a-/AOh14Gjbs6_R-H6LOkTu9UD1_yJk6oOg2n4wvCza7hMg=s64",
      "userId": "13038603259595704158"
     },
     "user_tz": 300
    },
    "id": "aSWp8HMPXu_k",
    "outputId": "06ff25a5-c866-4a8e-cfd2-5c7a1fbc079b"
   },
   "outputs": [
    {
     "data": {
      "text/plain": [
       "array([[227.97],\n",
       "       [228.39],\n",
       "       [227.64],\n",
       "       ...,\n",
       "       [467.22],\n",
       "       [467.22],\n",
       "       [467.22]])"
      ]
     },
     "execution_count": 85,
     "metadata": {},
     "output_type": "execute_result"
    }
   ],
   "source": [
    "dataset"
   ]
  },
  {
   "cell_type": "code",
   "execution_count": 86,
   "metadata": {
    "colab": {
     "base_uri": "https://localhost:8080/"
    },
    "executionInfo": {
     "elapsed": 9,
     "status": "ok",
     "timestamp": 1642647967756,
     "user": {
      "displayName": "Jerry Vasquez",
      "photoUrl": "https://lh3.googleusercontent.com/a-/AOh14Gjbs6_R-H6LOkTu9UD1_yJk6oOg2n4wvCza7hMg=s64",
      "userId": "13038603259595704158"
     },
     "user_tz": 300
    },
    "id": "P7gK5sOlZzsr",
    "outputId": "3d063236-9426-4032-9745-937fe4ff89e1"
   },
   "outputs": [
    {
     "data": {
      "text/plain": [
       "(425, 1)"
      ]
     },
     "execution_count": 86,
     "metadata": {},
     "output_type": "execute_result"
    }
   ],
   "source": [
    "scaled_data[cutoff-60:,:].shape"
   ]
  },
  {
   "cell_type": "code",
   "execution_count": 87,
   "metadata": {
    "executionInfo": {
     "elapsed": 8,
     "status": "ok",
     "timestamp": 1642647967757,
     "user": {
      "displayName": "Jerry Vasquez",
      "photoUrl": "https://lh3.googleusercontent.com/a-/AOh14Gjbs6_R-H6LOkTu9UD1_yJk6oOg2n4wvCza7hMg=s64",
      "userId": "13038603259595704158"
     },
     "user_tz": 300
    },
    "id": "c-3BNKA_UpUY"
   },
   "outputs": [],
   "source": [
    "# creating test data\n",
    "test_data = scaled_data[cutoff-60:,:]\n",
    "X_test = []\n",
    "y_test = dataset[cutoff:,:]\n",
    "\n",
    "for i in range(60,len(test_data)):\n",
    "    X_test.append(test_data[i-60:i, 0])"
   ]
  },
  {
   "cell_type": "code",
   "execution_count": 88,
   "metadata": {
    "executionInfo": {
     "elapsed": 8,
     "status": "ok",
     "timestamp": 1642647967757,
     "user": {
      "displayName": "Jerry Vasquez",
      "photoUrl": "https://lh3.googleusercontent.com/a-/AOh14Gjbs6_R-H6LOkTu9UD1_yJk6oOg2n4wvCza7hMg=s64",
      "userId": "13038603259595704158"
     },
     "user_tz": 300
    },
    "id": "YD57B6u_WcLB"
   },
   "outputs": [],
   "source": [
    "# convert X_test to numpy array\n",
    "X_test = np.array(X_test)"
   ]
  },
  {
   "cell_type": "code",
   "execution_count": 89,
   "metadata": {
    "executionInfo": {
     "elapsed": 7,
     "status": "ok",
     "timestamp": 1642647967757,
     "user": {
      "displayName": "Jerry Vasquez",
      "photoUrl": "https://lh3.googleusercontent.com/a-/AOh14Gjbs6_R-H6LOkTu9UD1_yJk6oOg2n4wvCza7hMg=s64",
      "userId": "13038603259595704158"
     },
     "user_tz": 300
    },
    "id": "_CunDTGqXD3y"
   },
   "outputs": [],
   "source": [
    "# reshape X_test for LSTM model\n",
    "X_test = np.reshape(X_test, (X_test.shape[0], X_test.shape[1], 1))"
   ]
  },
  {
   "cell_type": "code",
   "execution_count": 90,
   "metadata": {
    "executionInfo": {
     "elapsed": 1030,
     "status": "ok",
     "timestamp": 1642647968780,
     "user": {
      "displayName": "Jerry Vasquez",
      "photoUrl": "https://lh3.googleusercontent.com/a-/AOh14Gjbs6_R-H6LOkTu9UD1_yJk6oOg2n4wvCza7hMg=s64",
      "userId": "13038603259595704158"
     },
     "user_tz": 300
    },
    "id": "dJak3V5YXZ1J"
   },
   "outputs": [],
   "source": [
    "# get model preds\n",
    "predictions = model.predict(X_test)\n",
    "predictions = scaler.inverse_transform(predictions)"
   ]
  },
  {
   "cell_type": "code",
   "execution_count": 91,
   "metadata": {
    "colab": {
     "base_uri": "https://localhost:8080/"
    },
    "executionInfo": {
     "elapsed": 10,
     "status": "ok",
     "timestamp": 1642647968781,
     "user": {
      "displayName": "Jerry Vasquez",
      "photoUrl": "https://lh3.googleusercontent.com/a-/AOh14Gjbs6_R-H6LOkTu9UD1_yJk6oOg2n4wvCza7hMg=s64",
      "userId": "13038603259595704158"
     },
     "user_tz": 300
    },
    "id": "8B5iQWvQa5Lv",
    "outputId": "9e2ac7e8-c625-420f-fcef-ca8de1c5206a"
   },
   "outputs": [
    {
     "data": {
      "text/plain": [
       "4.059959112123466"
      ]
     },
     "execution_count": 91,
     "metadata": {},
     "output_type": "execute_result"
    }
   ],
   "source": [
    "# get rmse\n",
    "lstm_rmse = mean_squared_error(y_test,predictions,squared=False)\n",
    "lstm_rmse"
   ]
  },
  {
   "cell_type": "code",
   "execution_count": 92,
   "metadata": {
    "executionInfo": {
     "elapsed": 4,
     "status": "ok",
     "timestamp": 1642647968781,
     "user": {
      "displayName": "Jerry Vasquez",
      "photoUrl": "https://lh3.googleusercontent.com/a-/AOh14Gjbs6_R-H6LOkTu9UD1_yJk6oOg2n4wvCza7hMg=s64",
      "userId": "13038603259595704158"
     },
     "user_tz": 300
    },
    "id": "tMOi_IYPbXAB"
   },
   "outputs": [],
   "source": [
    "# plot the data\n",
    "train = data[:cutoff]\n",
    "actual = data[cutoff:]\n",
    "\n",
    "actual['Predictions'] = predictions"
   ]
  },
  {
   "cell_type": "code",
   "execution_count": 93,
   "metadata": {
    "colab": {
     "base_uri": "https://localhost:8080/",
     "height": 558
    },
    "executionInfo": {
     "elapsed": 587,
     "status": "ok",
     "timestamp": 1642647969364,
     "user": {
      "displayName": "Jerry Vasquez",
      "photoUrl": "https://lh3.googleusercontent.com/a-/AOh14Gjbs6_R-H6LOkTu9UD1_yJk6oOg2n4wvCza7hMg=s64",
      "userId": "13038603259595704158"
     },
     "user_tz": 300
    },
    "id": "435Ls_l3cFl4",
    "outputId": "966a79bb-5196-46e7-9d90-9a700064a720"
   },
   "outputs": [
    {
     "data": {
      "image/png": "[encoded data removed]",
      "text/plain": [
       "<Figure size 1152x576 with 1 Axes>"
      ]
     },
     "metadata": {},
     "output_type": "display_data"
    }
   ],
   "source": [
    "# visualize \n",
    "plt.figure(figsize=(16,8))\n",
    "plt.title(\"Model Forecast For IVV\")\n",
    "plt.xlabel(\"Date\",fontsize=18)\n",
    "plt.ylabel(\"Close Price in USD ($)\",fontsize=18)\n",
    "plt.plot(train['close'])\n",
    "plt.plot(actual['close'])\n",
    "plt.plot(actual['Predictions'])\n",
    "plt.legend(['Train','Actual','Predictions'],loc='lower right')\n",
    "plt.show()"
   ]
  },
  {
   "cell_type": "markdown",
   "metadata": {
    "id": "MfmEOyQjBCuw"
   },
   "source": [
    "### FBprophet Model"
   ]
  },
  {
   "cell_type": "code",
   "execution_count": 94,
   "metadata": {
    "executionInfo": {
     "elapsed": 10,
     "status": "ok",
     "timestamp": 1642647969365,
     "user": {
      "displayName": "Jerry Vasquez",
      "photoUrl": "https://lh3.googleusercontent.com/a-/AOh14Gjbs6_R-H6LOkTu9UD1_yJk6oOg2n4wvCza7hMg=s64",
      "userId": "13038603259595704158"
     },
     "user_tz": 300
    },
    "id": "jCwDW5xq0Iow"
   },
   "outputs": [],
   "source": [
    "# Helper functions\n",
    "\n",
    "def prep_dataframe(df):\n",
    "    ts = df.copy()\n",
    "    ts.rename(columns={'close':'y'},inplace=True)\n",
    "    ts.index.name = 'ds'\n",
    "    ts = ts.reset_index()\n",
    "    ts['ds'] = ts['ds'].apply(lambda x: x.replace(tzinfo=None))\n",
    "    return ts\n",
    "\n",
    "def fit_train(data,prepared=True):\n",
    "    # Format dataframe to fbprophet requirements in not already done\n",
    "    if prepared == False:\n",
    "        data = prep_dataframe(data)\n",
    "\n",
    "    # Train-Test Split\n",
    "    cutoff = int(data.shape[0] * 0.80)\n",
    "    train = data.iloc[:cutoff]\n",
    "    test = data.iloc[cutoff:]\n",
    "\n",
    "    # Fit the model\n",
    "    mod = Prophet(interval_width=0.95,weekly_seasonality=True,daily_seasonality=True)\n",
    "    fitted_mod = mod.fit(train)\n",
    "\n",
    "    if prepared == False:\n",
    "        return fitted_mod, data, train, test\n",
    "    else:\n",
    "        return fitted_mod, train, test\n",
    "\n",
    "def get_preds(model,test_data):\n",
    "    preds = model.predict(test_data[['ds']])\n",
    "    return preds[['ds','yhat_lower','yhat_upper','yhat']]\n",
    "\n",
    "def get_rmse(preds, test_data):\n",
    "    return mean_squared_error(preds['yhat'],test_data['y'],squared=False)"
   ]
  },
  {
   "cell_type": "code",
   "execution_count": 95,
   "metadata": {
    "executionInfo": {
     "elapsed": 4459,
     "status": "ok",
     "timestamp": 1642647973816,
     "user": {
      "displayName": "Jerry Vasquez",
      "photoUrl": "https://lh3.googleusercontent.com/a-/AOh14Gjbs6_R-H6LOkTu9UD1_yJk6oOg2n4wvCza7hMg=s64",
      "userId": "13038603259595704158"
     },
     "user_tz": 300
    },
    "id": "IzG_V5V_Bj1v"
   },
   "outputs": [],
   "source": [
    "mod, IVV_prepped, train, test = fit_train(IVV,False)"
   ]
  },
  {
   "cell_type": "code",
   "execution_count": 96,
   "metadata": {
    "colab": {
     "base_uri": "https://localhost:8080/",
     "height": 206
    },
    "executionInfo": {
     "elapsed": 25,
     "status": "ok",
     "timestamp": 1642647973816,
     "user": {
      "displayName": "Jerry Vasquez",
      "photoUrl": "https://lh3.googleusercontent.com/a-/AOh14Gjbs6_R-H6LOkTu9UD1_yJk6oOg2n4wvCza7hMg=s64",
      "userId": "13038603259595704158"
     },
     "user_tz": 300
    },
    "id": "CUEcRUZbBoAh",
    "outputId": "c59cb84e-6611-4252-8726-ec9f6d27687b"
   },
   "outputs": [
    {
     "data": {
      "text/html": [
       "\n",
       "  <div id=\"df-3948d2f0-ac0b-4125-9b3c-0d51192e9a37\">\n",
       "    <div class=\"colab-df-container\">\n",
       "      <div>\n",
       "<style scoped>\n",
       "    .dataframe tbody tr th:only-of-type {\n",
       "        vertical-align: middle;\n",
       "    }\n",
       "\n",
       "    .dataframe tbody tr th {\n",
       "        vertical-align: top;\n",
       "    }\n",
       "\n",
       "    .dataframe thead th {\n",
       "        text-align: right;\n",
       "    }\n",
       "</style>\n",
       "<table border=\"1\" class=\"dataframe\">\n",
       "  <thead>\n",
       "    <tr style=\"text-align: right;\">\n",
       "      <th></th>\n",
       "      <th>ds</th>\n",
       "      <th>y</th>\n",
       "    </tr>\n",
       "  </thead>\n",
       "  <tbody>\n",
       "    <tr>\n",
       "      <th>0</th>\n",
       "      <td>2017-01-12</td>\n",
       "      <td>227.97</td>\n",
       "    </tr>\n",
       "    <tr>\n",
       "      <th>1</th>\n",
       "      <td>2017-01-13</td>\n",
       "      <td>228.39</td>\n",
       "    </tr>\n",
       "    <tr>\n",
       "      <th>2</th>\n",
       "      <td>2017-01-14</td>\n",
       "      <td>227.64</td>\n",
       "    </tr>\n",
       "    <tr>\n",
       "      <th>3</th>\n",
       "      <td>2017-01-15</td>\n",
       "      <td>227.64</td>\n",
       "    </tr>\n",
       "    <tr>\n",
       "      <th>4</th>\n",
       "      <td>2017-01-16</td>\n",
       "      <td>227.64</td>\n",
       "    </tr>\n",
       "  </tbody>\n",
       "</table>\n",
       "</div>\n",
       "      <button class=\"colab-df-convert\" onclick=\"convertToInteractive('df-3948d2f0-ac0b-4125-9b3c-0d51192e9a37')\"\n",
       "              title=\"Convert this dataframe to an interactive table.\"\n",
       "              style=\"display:none;\">\n",
       "        \n",
       "  <svg xmlns=\"http://www.w3.org/2000/svg\" height=\"24px\"viewBox=\"0 0 24 24\"\n",
       "       width=\"24px\">\n",
       "    <path d=\"M0 0h24v24H0V0z\" fill=\"none\"/>\n",
       "    <path d=\"M18.56 5.44l.94 2.06.94-2.06 2.06-.94-2.06-.94-.94-2.06-.94 2.06-2.06.94zm-11 1L8.5 8.5l.94-2.06 2.06-.94-2.06-.94L8.5 2.5l-.94 2.06-2.06.94zm10 10l.94 2.06.94-2.06 2.06-.94-2.06-.94-.94-2.06-.94 2.06-2.06.94z\"/><path d=\"M17.41 7.96l-1.37-1.37c-.4-.4-.92-.59-1.43-.59-.52 0-1.04.2-1.43.59L10.3 9.45l-7.72 7.72c-.78.78-.78 2.05 0 2.83L4 21.41c.39.39.9.59 1.41.59.51 0 1.02-.2 1.41-.59l7.78-7.78 2.81-2.81c.8-.78.8-2.07 0-2.86zM5.41 20L4 18.59l7.72-7.72 1.47 1.35L5.41 20z\"/>\n",
       "  </svg>\n",
       "      </button>\n",
       "      \n",
       "  <style>\n",
       "    .colab-df-container {\n",
       "      display:flex;\n",
       "      flex-wrap:wrap;\n",
       "      gap: 12px;\n",
       "    }\n",
       "\n",
       "    .colab-df-convert {\n",
       "      background-color: #E8F0FE;\n",
       "      border: none;\n",
       "      border-radius: 50%;\n",
       "      cursor: pointer;\n",
       "      display: none;\n",
       "      fill: #1967D2;\n",
       "      height: 32px;\n",
       "      padding: 0 0 0 0;\n",
       "      width: 32px;\n",
       "    }\n",
       "\n",
       "    .colab-df-convert:hover {\n",
       "      background-color: #E2EBFA;\n",
       "      box-shadow: 0px 1px 2px rgba(60, 64, 67, 0.3), 0px 1px 3px 1px rgba(60, 64, 67, 0.15);\n",
       "      fill: #174EA6;\n",
       "    }\n",
       "\n",
       "    [theme=dark] .colab-df-convert {\n",
       "      background-color: #3B4455;\n",
       "      fill: #D2E3FC;\n",
       "    }\n",
       "\n",
       "    [theme=dark] .colab-df-convert:hover {\n",
       "      background-color: #434B5C;\n",
       "      box-shadow: 0px 1px 3px 1px rgba(0, 0, 0, 0.15);\n",
       "      filter: drop-shadow(0px 1px 2px rgba(0, 0, 0, 0.3));\n",
       "      fill: #FFFFFF;\n",
       "    }\n",
       "  </style>\n",
       "\n",
       "      <script>\n",
       "        const buttonEl =\n",
       "          document.querySelector('#df-3948d2f0-ac0b-4125-9b3c-0d51192e9a37 button.colab-df-convert');\n",
       "        buttonEl.style.display =\n",
       "          google.colab.kernel.accessAllowed ? 'block' : 'none';\n",
       "\n",
       "        async function convertToInteractive(key) {\n",
       "          const element = document.querySelector('#df-3948d2f0-ac0b-4125-9b3c-0d51192e9a37');\n",
       "          const dataTable =\n",
       "            await google.colab.kernel.invokeFunction('convertToInteractive',\n",
       "                                                     [key], {});\n",
       "          if (!dataTable) return;\n",
       "\n",
       "          const docLinkHtml = 'Like what you see? Visit the ' +\n",
       "            '<a target=\"_blank\" href=https://colab.research.google.com/notebooks/data_table.ipynb>data table notebook</a>'\n",
       "            + ' to learn more about interactive tables.';\n",
       "          element.innerHTML = '';\n",
       "          dataTable['output_type'] = 'display_data';\n",
       "          await google.colab.output.renderOutput(dataTable, element);\n",
       "          const docLink = document.createElement('div');\n",
       "          docLink.innerHTML = docLinkHtml;\n",
       "          element.appendChild(docLink);\n",
       "        }\n",
       "      </script>\n",
       "    </div>\n",
       "  </div>\n",
       "  "
      ],
      "text/plain": [
       "          ds       y\n",
       "0 2017-01-12  227.97\n",
       "1 2017-01-13  228.39\n",
       "2 2017-01-14  227.64\n",
       "3 2017-01-15  227.64\n",
       "4 2017-01-16  227.64"
      ]
     },
     "execution_count": 96,
     "metadata": {},
     "output_type": "execute_result"
    }
   ],
   "source": [
    "IVV_prepped.head()"
   ]
  },
  {
   "cell_type": "code",
   "execution_count": 97,
   "metadata": {
    "executionInfo": {
     "elapsed": 2966,
     "status": "ok",
     "timestamp": 1642647976762,
     "user": {
      "displayName": "Jerry Vasquez",
      "photoUrl": "https://lh3.googleusercontent.com/a-/AOh14Gjbs6_R-H6LOkTu9UD1_yJk6oOg2n4wvCza7hMg=s64",
      "userId": "13038603259595704158"
     },
     "user_tz": 300
    },
    "id": "in8r3hBQBsG0"
   },
   "outputs": [],
   "source": [
    "predictions = get_preds(mod,test)"
   ]
  },
  {
   "cell_type": "code",
   "execution_count": 98,
   "metadata": {
    "executionInfo": {
     "elapsed": 20,
     "status": "ok",
     "timestamp": 1642647976762,
     "user": {
      "displayName": "Jerry Vasquez",
      "photoUrl": "https://lh3.googleusercontent.com/a-/AOh14Gjbs6_R-H6LOkTu9UD1_yJk6oOg2n4wvCza7hMg=s64",
      "userId": "13038603259595704158"
     },
     "user_tz": 300
    },
    "id": "ZceFLlhcB2fx"
   },
   "outputs": [],
   "source": [
    "fbprophet_rmse = get_rmse(predictions,test)"
   ]
  },
  {
   "cell_type": "code",
   "execution_count": 99,
   "metadata": {
    "colab": {
     "base_uri": "https://localhost:8080/"
    },
    "executionInfo": {
     "elapsed": 19,
     "status": "ok",
     "timestamp": 1642647976762,
     "user": {
      "displayName": "Jerry Vasquez",
      "photoUrl": "https://lh3.googleusercontent.com/a-/AOh14Gjbs6_R-H6LOkTu9UD1_yJk6oOg2n4wvCza7hMg=s64",
      "userId": "13038603259595704158"
     },
     "user_tz": 300
    },
    "id": "87nkkxtTB-wx",
    "outputId": "7981da6a-583a-41f2-acc2-121a6c7a52f4"
   },
   "outputs": [
    {
     "data": {
      "text/plain": [
       "32.48823334723168"
      ]
     },
     "execution_count": 99,
     "metadata": {},
     "output_type": "execute_result"
    }
   ],
   "source": [
    "fbprophet_rmse"
   ]
  },
  {
   "cell_type": "code",
   "execution_count": 100,
   "metadata": {
    "executionInfo": {
     "elapsed": 16,
     "status": "ok",
     "timestamp": 1642647976762,
     "user": {
      "displayName": "Jerry Vasquez",
      "photoUrl": "https://lh3.googleusercontent.com/a-/AOh14Gjbs6_R-H6LOkTu9UD1_yJk6oOg2n4wvCza7hMg=s64",
      "userId": "13038603259595704158"
     },
     "user_tz": 300
    },
    "id": "FWbfv-6DCDCd"
   },
   "outputs": [],
   "source": [
    "train = train.set_index('ds')\n",
    "test = test.set_index('ds')"
   ]
  },
  {
   "cell_type": "code",
   "execution_count": 101,
   "metadata": {
    "executionInfo": {
     "elapsed": 16,
     "status": "ok",
     "timestamp": 1642647976763,
     "user": {
      "displayName": "Jerry Vasquez",
      "photoUrl": "https://lh3.googleusercontent.com/a-/AOh14Gjbs6_R-H6LOkTu9UD1_yJk6oOg2n4wvCza7hMg=s64",
      "userId": "13038603259595704158"
     },
     "user_tz": 300
    },
    "id": "Ls4jXJb_CQfG"
   },
   "outputs": [],
   "source": [
    "predictions = predictions[['ds','yhat']].set_index('ds')"
   ]
  },
  {
   "cell_type": "code",
   "execution_count": 102,
   "metadata": {
    "colab": {
     "base_uri": "https://localhost:8080/",
     "height": 383
    },
    "executionInfo": {
     "elapsed": 462,
     "status": "ok",
     "timestamp": 1642647977209,
     "user": {
      "displayName": "Jerry Vasquez",
      "photoUrl": "https://lh3.googleusercontent.com/a-/AOh14Gjbs6_R-H6LOkTu9UD1_yJk6oOg2n4wvCza7hMg=s64",
      "userId": "13038603259595704158"
     },
     "user_tz": 300
    },
    "id": "dr4sMihSCTOe",
    "outputId": "be4369d9-f28c-4020-81be-bc70a1260abe"
   },
   "outputs": [
    {
     "data": {
      "image/png": "[encoded data removed]",
      "text/plain": [
       "<Figure size 1080x360 with 1 Axes>"
      ]
     },
     "metadata": {},
     "output_type": "display_data"
    }
   ],
   "source": [
    "plt.figure(figsize=(15,5))\n",
    "plt.title('FBprophet Forecast For IVV')\n",
    "plt.xlabel('Date')\n",
    "plt.ylabel(\"Close Price in USD ($)\")\n",
    "plt.plot(train['y'],label=\"train\")\n",
    "plt.plot(test['y'],c='green',label='actual')\n",
    "plt.plot(predictions['yhat'],c='red',label='predictions')\n",
    "plt.legend()\n",
    "plt.show()"
   ]
  },
  {
   "cell_type": "code",
   "execution_count": 103,
   "metadata": {
    "executionInfo": {
     "elapsed": 8,
     "status": "ok",
     "timestamp": 1642647977210,
     "user": {
      "displayName": "Jerry Vasquez",
      "photoUrl": "https://lh3.googleusercontent.com/a-/AOh14Gjbs6_R-H6LOkTu9UD1_yJk6oOg2n4wvCza7hMg=s64",
      "userId": "13038603259595704158"
     },
     "user_tz": 300
    },
    "id": "UA5qxkyaCVop"
   },
   "outputs": [],
   "source": [
    "rmses = pd.Series( [baseline_rmse, arima_rmse, lstm_rmse, fbprophet_rmse], index=['Baseline','ARIMA','LSTM','FBprophet'])"
   ]
  },
  {
   "cell_type": "code",
   "execution_count": 104,
   "metadata": {
    "executionInfo": {
     "elapsed": 8,
     "status": "ok",
     "timestamp": 1642647977210,
     "user": {
      "displayName": "Jerry Vasquez",
      "photoUrl": "https://lh3.googleusercontent.com/a-/AOh14Gjbs6_R-H6LOkTu9UD1_yJk6oOg2n4wvCza7hMg=s64",
      "userId": "13038603259595704158"
     },
     "user_tz": 300
    },
    "id": "g_fJKt_WECcv"
   },
   "outputs": [],
   "source": [
    "rmses = pd.DataFrame(rmses,columns=['RMSEs'])"
   ]
  },
  {
   "cell_type": "code",
   "execution_count": 105,
   "metadata": {
    "colab": {
     "base_uri": "https://localhost:8080/",
     "height": 175
    },
    "executionInfo": {
     "elapsed": 11,
     "status": "ok",
     "timestamp": 1642647977214,
     "user": {
      "displayName": "Jerry Vasquez",
      "photoUrl": "https://lh3.googleusercontent.com/a-/AOh14Gjbs6_R-H6LOkTu9UD1_yJk6oOg2n4wvCza7hMg=s64",
      "userId": "13038603259595704158"
     },
     "user_tz": 300
    },
    "id": "4FgGNjymEw50",
    "outputId": "6b2e54ee-b07c-4a62-9fbe-7d6221d12c3b"
   },
   "outputs": [
    {
     "data": {
      "text/html": [
       "\n",
       "  <div id=\"df-77ca8fbd-0a25-4cac-aa63-d019210c9de9\">\n",
       "    <div class=\"colab-df-container\">\n",
       "      <div>\n",
       "<style scoped>\n",
       "    .dataframe tbody tr th:only-of-type {\n",
       "        vertical-align: middle;\n",
       "    }\n",
       "\n",
       "    .dataframe tbody tr th {\n",
       "        vertical-align: top;\n",
       "    }\n",
       "\n",
       "    .dataframe thead th {\n",
       "        text-align: right;\n",
       "    }\n",
       "</style>\n",
       "<table border=\"1\" class=\"dataframe\">\n",
       "  <thead>\n",
       "    <tr style=\"text-align: right;\">\n",
       "      <th></th>\n",
       "      <th>RMSEs</th>\n",
       "    </tr>\n",
       "  </thead>\n",
       "  <tbody>\n",
       "    <tr>\n",
       "      <th>Baseline</th>\n",
       "      <td>16.091709</td>\n",
       "    </tr>\n",
       "    <tr>\n",
       "      <th>ARIMA</th>\n",
       "      <td>36.026600</td>\n",
       "    </tr>\n",
       "    <tr>\n",
       "      <th>LSTM</th>\n",
       "      <td>4.059959</td>\n",
       "    </tr>\n",
       "    <tr>\n",
       "      <th>FBprophet</th>\n",
       "      <td>32.488233</td>\n",
       "    </tr>\n",
       "  </tbody>\n",
       "</table>\n",
       "</div>\n",
       "      <button class=\"colab-df-convert\" onclick=\"convertToInteractive('df-77ca8fbd-0a25-4cac-aa63-d019210c9de9')\"\n",
       "              title=\"Convert this dataframe to an interactive table.\"\n",
       "              style=\"display:none;\">\n",
       "        \n",
       "  <svg xmlns=\"http://www.w3.org/2000/svg\" height=\"24px\"viewBox=\"0 0 24 24\"\n",
       "       width=\"24px\">\n",
       "    <path d=\"M0 0h24v24H0V0z\" fill=\"none\"/>\n",
       "    <path d=\"M18.56 5.44l.94 2.06.94-2.06 2.06-.94-2.06-.94-.94-2.06-.94 2.06-2.06.94zm-11 1L8.5 8.5l.94-2.06 2.06-.94-2.06-.94L8.5 2.5l-.94 2.06-2.06.94zm10 10l.94 2.06.94-2.06 2.06-.94-2.06-.94-.94-2.06-.94 2.06-2.06.94z\"/><path d=\"M17.41 7.96l-1.37-1.37c-.4-.4-.92-.59-1.43-.59-.52 0-1.04.2-1.43.59L10.3 9.45l-7.72 7.72c-.78.78-.78 2.05 0 2.83L4 21.41c.39.39.9.59 1.41.59.51 0 1.02-.2 1.41-.59l7.78-7.78 2.81-2.81c.8-.78.8-2.07 0-2.86zM5.41 20L4 18.59l7.72-7.72 1.47 1.35L5.41 20z\"/>\n",
       "  </svg>\n",
       "      </button>\n",
       "      \n",
       "  <style>\n",
       "    .colab-df-container {\n",
       "      display:flex;\n",
       "      flex-wrap:wrap;\n",
       "      gap: 12px;\n",
       "    }\n",
       "\n",
       "    .colab-df-convert {\n",
       "      background-color: #E8F0FE;\n",
       "      border: none;\n",
       "      border-radius: 50%;\n",
       "      cursor: pointer;\n",
       "      display: none;\n",
       "      fill: #1967D2;\n",
       "      height: 32px;\n",
       "      padding: 0 0 0 0;\n",
       "      width: 32px;\n",
       "    }\n",
       "\n",
       "    .colab-df-convert:hover {\n",
       "      background-color: #E2EBFA;\n",
       "      box-shadow: 0px 1px 2px rgba(60, 64, 67, 0.3), 0px 1px 3px 1px rgba(60, 64, 67, 0.15);\n",
       "      fill: #174EA6;\n",
       "    }\n",
       "\n",
       "    [theme=dark] .colab-df-convert {\n",
       "      background-color: #3B4455;\n",
       "      fill: #D2E3FC;\n",
       "    }\n",
       "\n",
       "    [theme=dark] .colab-df-convert:hover {\n",
       "      background-color: #434B5C;\n",
       "      box-shadow: 0px 1px 3px 1px rgba(0, 0, 0, 0.15);\n",
       "      filter: drop-shadow(0px 1px 2px rgba(0, 0, 0, 0.3));\n",
       "      fill: #FFFFFF;\n",
       "    }\n",
       "  </style>\n",
       "\n",
       "      <script>\n",
       "        const buttonEl =\n",
       "          document.querySelector('#df-77ca8fbd-0a25-4cac-aa63-d019210c9de9 button.colab-df-convert');\n",
       "        buttonEl.style.display =\n",
       "          google.colab.kernel.accessAllowed ? 'block' : 'none';\n",
       "\n",
       "        async function convertToInteractive(key) {\n",
       "          const element = document.querySelector('#df-77ca8fbd-0a25-4cac-aa63-d019210c9de9');\n",
       "          const dataTable =\n",
       "            await google.colab.kernel.invokeFunction('convertToInteractive',\n",
       "                                                     [key], {});\n",
       "          if (!dataTable) return;\n",
       "\n",
       "          const docLinkHtml = 'Like what you see? Visit the ' +\n",
       "            '<a target=\"_blank\" href=https://colab.research.google.com/notebooks/data_table.ipynb>data table notebook</a>'\n",
       "            + ' to learn more about interactive tables.';\n",
       "          element.innerHTML = '';\n",
       "          dataTable['output_type'] = 'display_data';\n",
       "          await google.colab.output.renderOutput(dataTable, element);\n",
       "          const docLink = document.createElement('div');\n",
       "          docLink.innerHTML = docLinkHtml;\n",
       "          element.appendChild(docLink);\n",
       "        }\n",
       "      </script>\n",
       "    </div>\n",
       "  </div>\n",
       "  "
      ],
      "text/plain": [
       "               RMSEs\n",
       "Baseline   16.091709\n",
       "ARIMA      36.026600\n",
       "LSTM        4.059959\n",
       "FBprophet  32.488233"
      ]
     },
     "execution_count": 105,
     "metadata": {},
     "output_type": "execute_result"
    }
   ],
   "source": [
    "rmses"
   ]
  },
  {
   "cell_type": "markdown",
   "metadata": {
    "id": "rcqw2L09FDD-"
   },
   "source": [
    "The LSTM model performed the best, we can expect predict the closing price of the IVV index fund within an error of $4.06"
   ]
  },
  {
   "cell_type": "code",
   "execution_count": 105,
   "metadata": {
    "executionInfo": {
     "elapsed": 11,
     "status": "ok",
     "timestamp": 1642647977214,
     "user": {
      "displayName": "Jerry Vasquez",
      "photoUrl": "https://lh3.googleusercontent.com/a-/AOh14Gjbs6_R-H6LOkTu9UD1_yJk6oOg2n4wvCza7hMg=s64",
      "userId": "13038603259595704158"
     },
     "user_tz": 300
    },
    "id": "yLFPD-6QE-b4"
   },
   "outputs": [],
   "source": []
  }
 ],
 "metadata": {
  "colab": {
   "collapsed_sections": [],
   "name": "IVV_Modeling.ipynb",
   "provenance": []
  },
  "kernelspec": {
   "display_name": "Python 3",
   "language": "python",
   "name": "python3"
  },
  "language_info": {
   "codemirror_mode": {
    "name": "ipython",
    "version": 3
   },
   "file_extension": ".py",
   "mimetype": "text/x-python",
   "name": "python",
   "nbconvert_exporter": "python",
   "pygments_lexer": "ipython3",
   "version": "3.8.5"
  }
 },
 "nbformat": 4,
 "nbformat_minor": 1
}
